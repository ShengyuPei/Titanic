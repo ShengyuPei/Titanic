{
 "cells": [
  {
   "cell_type": "markdown",
   "metadata": {},
   "source": [
    "# Titanic\n",
    "\n",
    "Open project for [Network Tour of Data Science](https://github.com/mdeff/ntds_2017) EPFL class.\n",
    "\n",
    "*Teo Stocco, Pierre-Alexandre Lee, Yves Lamonato, Charles Thiebaut*, EPFL.\n",
    "\n",
    "nbviewer + binder\n",
    "\n",
    "isolate code blocks in functions in separate Python module\n",
    "\n",
    "project not shared"
   ]
  },
  {
   "cell_type": "markdown",
   "metadata": {},
   "source": [
    "## Abstract\n",
    "\n",
    "TODO"
   ]
  },
  {
   "cell_type": "markdown",
   "metadata": {},
   "source": [
    "## 1 Introduction\n",
    "\n",
    "Motivation\n",
    "\n",
    "Icebergs and ships do not get well along each other. To avoid dramatic event\n",
    "such as the one that happened a century ago, we aim at helping a noble quest:\n",
    "differentiating icebergs and ships based on satellite imagery to see whether any\n",
    "iceberg is drifting away and might cross the road of a ship.\n",
    "\n",
    "Problem\n",
    "\n",
    "Goal\n",
    "\n",
    "Using what has been studied in class, we would extract features from the images\n",
    "and then create a graph out of those. Getting inspiration from the following\n",
    "paper: \"Convolutional Neural Networks on Graphs with Fast Localized Spectral\n",
    "Filtering\" as well as in the following slides \"Convolutional Neural Networks on\n",
    "Graphs\", we would then proceed to some analysis and binary classiffcation to\n",
    "reach our goal. We aim at evaluating different ways we could extract features\n",
    "and model them for later steps, especially ways of getting rotation invariance\n",
    "on given data to avoid classical convolutional neural network limitation.\n",
    "\n",
    "non euclidian\n",
    "\n",
    "business"
   ]
  },
  {
   "cell_type": "markdown",
   "metadata": {},
   "source": [
    "## 2 Data source\n",
    "\n",
    "kaggle\n",
    "\n",
    "### Description\n",
    "\n",
    "angle\n",
    "\n",
    "### Exploration\n",
    "\n",
    "3D picture plotly\n",
    "\n",
    "### Vizualization\n",
    "\n",
    "PCA\n",
    "clustering\n",
    "\n",
    "### Cleaning\n"
   ]
  },
  {
   "cell_type": "markdown",
   "metadata": {},
   "source": [
    "## 3 Preprocessing\n",
    "\n",
    "set seed\n",
    "\n",
    "### Scaling/normalization\n",
    "\n",
    "### Features\n",
    "\n",
    "### Validation set"
   ]
  },
  {
   "cell_type": "markdown",
   "metadata": {},
   "source": [
    "## 4 Graphs\n",
    "\n",
    "### Grid\n",
    "\n",
    "circular\n",
    "\n",
    "### 2D grid\n",
    "\n",
    "### Pattern-based graph\n"
   ]
  },
  {
   "cell_type": "markdown",
   "metadata": {},
   "source": [
    "## 5 Modelling\n",
    "\n",
    "### Graph Convolution\n",
    "\n",
    "fourier\n",
    "\n",
    "chebyshev\n",
    "\n",
    "### Pooling\n",
    "\n",
    "graculus\n",
    "\n",
    "korn?\n",
    "\n",
    "algeibraic (spectral cut)\n",
    "\n",
    "MST\n",
    "\n",
    "pattern-based"
   ]
  },
  {
   "cell_type": "markdown",
   "metadata": {},
   "source": [
    "## 6 Training\n",
    "\n",
    "### Train/test split\n",
    "\n",
    "### Skorch"
   ]
  },
  {
   "cell_type": "markdown",
   "metadata": {},
   "source": [
    "## 7 Evaluation\n",
    "\n",
    "### Models\n",
    "\n",
    "### Stacking"
   ]
  },
  {
   "cell_type": "markdown",
   "metadata": {},
   "source": [
    "## 8 Conclusion\n",
    "\n",
    "### Further work\n",
    "\n",
    "### Acknowledgements"
   ]
  },
  {
   "cell_type": "markdown",
   "metadata": {},
   "source": [
    "## 9 References\n",
    "\n",
    "- DEFFERRARD, Michaël, BRESSON, Xavier, et VANDERGHEYNST, Pierre. Convolutional neural networks on graphs with fast localized spectral filtering. In : Advances in Neural Information Processing Systems. 2016. p. 3844-3852.\n",
    "- SHUMAN, David I., NARANG, Sunil K., FROSSARD, Pascal, et al. The emerging field of signal processing on graphs: Extending high-dimensional data analysis to networks and other irregular domains. IEEE Signal Processing Magazine, 2013, vol. 30, no 3, p. 83-98.\n",
    "- BRONSTEIN, Michael M., BRUNA, Joan, LECUN, Yann, et al. Geometric deep learning: going beyond euclidean data. IEEE Signal Processing Magazine, 2017, vol. 34, no 4, p. 18-42.\n"
   ]
  },
  {
   "cell_type": "code",
   "execution_count": null,
   "metadata": {},
   "outputs": [],
   "source": []
  }
 ],
 "metadata": {
  "kernelspec": {
   "display_name": "Python 3",
   "language": "python",
   "name": "python3"
  },
  "language_info": {
   "codemirror_mode": {
    "name": "ipython",
    "version": 3
   },
   "file_extension": ".py",
   "mimetype": "text/x-python",
   "name": "python",
   "nbconvert_exporter": "python",
   "pygments_lexer": "ipython3",
   "version": "3.5.2"
  }
 },
 "nbformat": 4,
 "nbformat_minor": 2
}
