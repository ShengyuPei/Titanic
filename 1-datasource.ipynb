{
 "cells": [
  {
   "cell_type": "code",
   "execution_count": null,
   "metadata": {},
   "outputs": [],
   "source": [
    "% run 0-utils.ipynb"
   ]
  },
  {
   "cell_type": "code",
   "execution_count": null,
   "metadata": {},
   "outputs": [],
   "source": [
    "icebergs = pd.read_json('data/train.json').set_index('id')\n",
    "icebergs = icebergs.assign(\n",
    "    inc_angle=pd.to_numeric(icebergs.inc_angle, 'coerce'),\n",
    "    band_1=icebergs.band_1.apply(np.array),\n",
    "    band_2=icebergs.band_2.apply(np.array),\n",
    ")\n",
    "icebergs.head()"
   ]
  }
 ],
 "metadata": {
  "kernelspec": {
   "display_name": "Python 3",
   "language": "python",
   "name": "python3"
  },
  "language_info": {
   "codemirror_mode": {
    "name": "ipython",
    "version": 3
   },
   "file_extension": ".py",
   "mimetype": "text/x-python",
   "name": "python",
   "nbconvert_exporter": "python",
   "pygments_lexer": "ipython3",
   "version": "3.5.2"
  }
 },
 "nbformat": 4,
 "nbformat_minor": 2
}
