{
 "cells": [
  {
   "cell_type": "code",
   "execution_count": null,
   "metadata": {},
   "outputs": [],
   "source": [
    "% run 1-datasource.ipynb"
   ]
  },
  {
   "cell_type": "code",
   "execution_count": null,
   "metadata": {},
   "outputs": [],
   "source": [
    "import torch\n",
    "from torch import nn\n",
    "from sklearn.model_selection import train_test_split\n",
    "from sklearn.datasets import make_classification\n",
    "import scipy.stats as sc\n",
    "import torch.nn.functional as F\n",
    "from skorch.net import NeuralNet,train_loss_score,valid_loss_score\n",
    "from skorch.callbacks import EpochTimer,EpochScoring,PrintLog\n",
    "from sklearn.preprocessing import StandardScaler"
   ]
  },
  {
   "cell_type": "code",
   "execution_count": null,
   "metadata": {},
   "outputs": [],
   "source": [
    "scaler_1 = StandardScaler()\n",
    "scaler_2 = StandardScaler()"
   ]
  },
  {
   "cell_type": "code",
   "execution_count": null,
   "metadata": {},
   "outputs": [],
   "source": [
    "for _, i in icebergs.iterrows():\n",
    "    scaler_1.partial_fit(i.band_1.reshape(1, -1))\n",
    "    scaler_2.partial_fit(i.band_2.reshape(1, -1))"
   ]
  },
  {
   "cell_type": "code",
   "execution_count": null,
   "metadata": {
    "scrolled": false
   },
   "outputs": [],
   "source": [
    "y = icebergs.is_iceberg.values.astype(np.float32)\n",
    "x = (\n",
    "    np.stack(\n",
    "        [\n",
    "            scaler_1.transform(np.stack(icebergs.band_1)),\n",
    "            scaler_2.transform(np.stack(icebergs.band_2)),\n",
    "        ],\n",
    "        axis=1\n",
    "    ).reshape(-1, 2, 75, 75)\n",
    ").astype(np.float32)"
   ]
  },
  {
   "cell_type": "code",
   "execution_count": null,
   "metadata": {
    "scrolled": false
   },
   "outputs": [],
   "source": [
    "x.dtype, y.dtype"
   ]
  },
  {
   "cell_type": "code",
   "execution_count": null,
   "metadata": {
    "scrolled": true
   },
   "outputs": [],
   "source": [
    "type(x), type(y)"
   ]
  },
  {
   "cell_type": "code",
   "execution_count": null,
   "metadata": {},
   "outputs": [],
   "source": [
    "y.shape, x.shape"
   ]
  },
  {
   "cell_type": "code",
   "execution_count": null,
   "metadata": {},
   "outputs": [],
   "source": []
  },
  {
   "cell_type": "code",
   "execution_count": null,
   "metadata": {},
   "outputs": [],
   "source": [
    "insize1 = 2 \n",
    "#outsize1 = 32 \n",
    "#outsize2 = 32\n",
    "\n",
    "class Net(nn.Module):\n",
    "    def __init__(self,outsize1=16,outsize2=32):\n",
    "        super().__init__()\n",
    "        \n",
    "        #self.padding = padding\n",
    "        #self.kernel1 = kernel1\n",
    "        #self.kernel2 = kernel2 \n",
    "        self.outsize1= outsize1\n",
    "        self.outsize2 = outsize2\n",
    "        #self.stride = stride\n",
    "        #self.group? \n",
    "        #insize outsize ?\n",
    "        \n",
    "        self.layer1 = nn.Sequential(\n",
    "            nn.Conv2d(insize1, outsize1, kernel_size=7, stride=1, padding=2, groups=2),\n",
    "            nn.BatchNorm2d(outsize1),\n",
    "            nn.ReLU(),\n",
    "            nn.MaxPool2d(4)\n",
    "        )\n",
    "        self.layer2 = nn.Sequential(\n",
    "            nn.Conv2d(outsize1, outsize2, kernel_size=5, stride=1, padding=2),\n",
    "            nn.BatchNorm2d(outsize2),\n",
    "            nn.ReLU(),\n",
    "            nn.MaxPool2d(2)\n",
    "        )\n",
    "        self.fc = nn.Sequential(\n",
    "            nn.Linear(outsize2*81, 1024),\n",
    "            nn.ReLU(),\n",
    "            nn.Linear(1024, 512),\n",
    "            nn.ReLU(),\n",
    "            nn.Linear(512, 1),\n",
    "        )\n",
    "\n",
    "    def forward(self, x):\n",
    "        out = self.layer1(x)\n",
    "        out = self.layer2(out)\n",
    "        out = self.fc(out)\n",
    "        return out"
   ]
  },
  {
   "cell_type": "code",
   "execution_count": null,
   "metadata": {},
   "outputs": [],
   "source": [
    "#redifining scoring for sklearn \n",
    "from skorch import NeuralNet\n",
    "from skorch.utils import to_numpy\n",
    "class NNplusplus(NeuralNet):\n",
    "    def score(self,X,target):\n",
    "        y_preds = []\n",
    "        for yp in self.forward_iter(X, training=False):\n",
    "            y_preds.append(to_numpy(yp.sigmoid()))\n",
    "       \n",
    "        y_preds = np.concatenate(y_preds, 0)\n",
    "   \n",
    "        return log_loss(target,y_preds)"
   ]
  },
  {
   "cell_type": "code",
   "execution_count": null,
   "metadata": {},
   "outputs": [],
   "source": [
    "from skorch.net import NeuralNetClassifier\n",
    "model = NNplusplus(\n",
    "    Net,\n",
    "    optimizer=torch.optim.Adam,\n",
    "    criterion=nn.BCEWithLogitsLoss, #regularization\n",
    "    max_epochs=150,\n",
    "    batch_size=25,\n",
    "    lr=0.000001,\n",
    "    use_cuda = True\n",
    ")"
   ]
  },
  {
   "cell_type": "code",
   "execution_count": null,
   "metadata": {},
   "outputs": [],
   "source": [
    "model.fit(x,y)"
   ]
  },
  {
   "cell_type": "code",
   "execution_count": null,
   "metadata": {},
   "outputs": [],
   "source": [
    "param_dis = {\n",
    "    'batch_size': [32,64],\n",
    "    'module__outsize1':[16,32,64],\n",
    "    'module__outsize2':[16,32,64],\n",
    "}"
   ]
  },
  {
   "cell_type": "code",
   "execution_count": null,
   "metadata": {},
   "outputs": [],
   "source": [
    "from sklearn.model_selection import RandomizedSearchCV\n",
    "gsR = RandomizedSearchCV(model, param_dis, refit=False,scoring='f1',n_jobs=1,n_iter=5)"
   ]
  },
  {
   "cell_type": "code",
   "execution_count": null,
   "metadata": {
    "scrolled": false
   },
   "outputs": [],
   "source": [
    "gsR.fit(x,y)"
   ]
  },
  {
   "cell_type": "code",
   "execution_count": null,
   "metadata": {},
   "outputs": [],
   "source": [
    "gsR.best_params_,gsR.best_score_"
   ]
  },
  {
   "cell_type": "code",
   "execution_count": null,
   "metadata": {},
   "outputs": [],
   "source": []
  },
  {
   "cell_type": "code",
   "execution_count": null,
   "metadata": {},
   "outputs": [],
   "source": []
  }
 ],
 "metadata": {
  "kernelspec": {
   "display_name": "Python 3",
   "language": "python",
   "name": "python3"
  },
  "language_info": {
   "codemirror_mode": {
    "name": "ipython",
    "version": 3
   },
   "file_extension": ".py",
   "mimetype": "text/x-python",
   "name": "python",
   "nbconvert_exporter": "python",
   "pygments_lexer": "ipython3",
   "version": "3.5.2"
  }
 },
 "nbformat": 4,
 "nbformat_minor": 2
}
