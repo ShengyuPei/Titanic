{
 "cells": [
  {
   "cell_type": "code",
   "execution_count": null,
   "metadata": {},
   "outputs": [],
   "source": [
    "% run 0-utils.ipynb"
   ]
  },
  {
   "cell_type": "code",
   "execution_count": null,
   "metadata": {},
   "outputs": [],
   "source": [
    "import os\n",
    "os.environ['CUDA_VISIBLE_DEVICES'] = '1'"
   ]
  },
  {
   "cell_type": "code",
   "execution_count": null,
   "metadata": {},
   "outputs": [],
   "source": [
    "import torch.utils.data as data_utils\n",
    "from sklearn.model_selection import train_test_split\n",
    "from sklearn.metrics import accuracy_score, log_loss\n",
    "from sklearn.preprocessing import StandardScaler\n",
    "from tensorboardX import SummaryWriter\n",
    "import skimage.transform as transform\n",
    "import skimage.filters as filters\n",
    "import networkx as nx\n",
    "from scipy import spatial\n",
    "import scipy.sparse.csgraph\n",
    "from gcnn.datasets import load_icebergs\n",
    "from gcnn.graph import *\n",
    "from gcnn.coarsening import graclus"
   ]
  },
  {
   "cell_type": "code",
   "execution_count": null,
   "metadata": {},
   "outputs": [],
   "source": [
    "icebergs = load_icebergs('train')"
   ]
  },
  {
   "cell_type": "code",
   "execution_count": null,
   "metadata": {
    "scrolled": false
   },
   "outputs": [],
   "source": [
    "icebergs.head()"
   ]
  },
  {
   "cell_type": "code",
   "execution_count": null,
   "metadata": {},
   "outputs": [],
   "source": [
    "gr_size = 38\n",
    "gr = grid_coordinates(gr_size)\n",
    "gr.shape"
   ]
  },
  {
   "cell_type": "code",
   "execution_count": null,
   "metadata": {},
   "outputs": [],
   "source": [
    "mask = knn(gr, k=6, metric='cityblock')\n",
    "mask = nx.adjacency_matrix(mask, sorted(mask.nodes))"
   ]
  },
  {
   "cell_type": "code",
   "execution_count": null,
   "metadata": {},
   "outputs": [],
   "source": [
    "from gcnn.coarsening import graclus"
   ]
  },
  {
   "cell_type": "code",
   "execution_count": null,
   "metadata": {},
   "outputs": [],
   "source": [
    "graphs, perm = graclus.coarsen(sp.sparse.csr.csr_matrix(mask), levels=3, self_connections=False)"
   ]
  },
  {
   "cell_type": "code",
   "execution_count": null,
   "metadata": {},
   "outputs": [],
   "source": [
    "len(perm)"
   ]
  },
  {
   "cell_type": "code",
   "execution_count": null,
   "metadata": {},
   "outputs": [],
   "source": [
    "laps = [sp.sparse.csgraph.laplacian(g, normed=True) for g in graphs[:-1]]"
   ]
  },
  {
   "cell_type": "code",
   "execution_count": null,
   "metadata": {},
   "outputs": [],
   "source": [
    "n = laps[0].shape[0]\n",
    "n"
   ]
  },
  {
   "cell_type": "code",
   "execution_count": null,
   "metadata": {},
   "outputs": [],
   "source": [
    "icebergs = icebergs.assign(\n",
    "    graph=icebergs\n",
    "        .band_1\n",
    "        .apply(lambda x: transform.rescale(x.reshape(75, 75), 0.5, mode='constant'))\n",
    "        .apply(lambda x: filters.gaussian(x, 2))\n",
    "        .apply(lambda x: np.r_[x[tuple(gr.reshape(2, -1))], np.zeros(n - gr_size * gr_size)][perm])\n",
    ")"
   ]
  },
  {
   "cell_type": "code",
   "execution_count": null,
   "metadata": {},
   "outputs": [],
   "source": [
    "train, test = train_test_split(icebergs, test_size=0.15, stratify=icebergs.is_iceberg)\n",
    "np.unique(train.is_iceberg, return_counts=True)[1] / len(train)"
   ]
  },
  {
   "cell_type": "code",
   "execution_count": null,
   "metadata": {},
   "outputs": [],
   "source": [
    "np.unique(test.is_iceberg, return_counts=True)[1] / len(test)"
   ]
  },
  {
   "cell_type": "code",
   "execution_count": null,
   "metadata": {},
   "outputs": [],
   "source": [
    "scaler_1 = StandardScaler()\n",
    "scaler_2 = StandardScaler()\n",
    "scaler_graph = StandardScaler()"
   ]
  },
  {
   "cell_type": "code",
   "execution_count": null,
   "metadata": {},
   "outputs": [],
   "source": [
    "for _, i in train.iterrows():\n",
    "    scaler_1.partial_fit(i.band_1.reshape(1, -1))\n",
    "    scaler_2.partial_fit(i.band_2.reshape(1, -1))\n",
    "    scaler_graph.partial_fit(i.graph.reshape(1, -1))"
   ]
  },
  {
   "cell_type": "code",
   "execution_count": null,
   "metadata": {},
   "outputs": [],
   "source": [
    "train_x = torch.from_numpy(scaler_graph.transform(np.stack(train.graph))).float()\n",
    "test_x = torch.from_numpy(scaler_graph.transform(np.stack(test.graph))).float()\n",
    "train_y = torch.from_numpy(train.is_iceberg.values.reshape(-1, 1)).float()\n",
    "test_y = torch.from_numpy(test.is_iceberg.values.reshape(-1, 1)).float()"
   ]
  },
  {
   "cell_type": "code",
   "execution_count": null,
   "metadata": {},
   "outputs": [],
   "source": [
    "def fourier(laplacian):\n",
    "    eigenvalues, eigenvectors = sp.linalg.eigh(laplacian)\n",
    "    return eigenvectors"
   ]
  },
  {
   "cell_type": "code",
   "execution_count": null,
   "metadata": {},
   "outputs": [],
   "source": [
    "f0 = torch.from_numpy(fourier(laps[0].todense())).float()\n",
    "f0.size()"
   ]
  },
  {
   "cell_type": "code",
   "execution_count": null,
   "metadata": {},
   "outputs": [],
   "source": [
    "f1 = torch.from_numpy(fourier(laps[1].todense())).float()\n",
    "f1.size()"
   ]
  },
  {
   "cell_type": "code",
   "execution_count": null,
   "metadata": {},
   "outputs": [],
   "source": [
    "f2 = torch.from_numpy(fourier(laps[2].todense())).float()\n",
    "f2.size()"
   ]
  },
  {
   "cell_type": "code",
   "execution_count": null,
   "metadata": {},
   "outputs": [],
   "source": [
    "cuda = torch.cuda.is_available()\n",
    "num_epochs = 250\n",
    "batch_size = 64\n",
    "learning_rate = 0.000001\n",
    "cuda"
   ]
  },
  {
   "cell_type": "code",
   "execution_count": null,
   "metadata": {},
   "outputs": [],
   "source": [
    "train_loader = data_utils.DataLoader(data_utils.TensorDataset(train_x, train_y), batch_size=batch_size, shuffle=True)\n",
    "test_loader = data_utils.DataLoader(data_utils.TensorDataset(test_x, test_y), batch_size=batch_size, shuffle=True)"
   ]
  },
  {
   "cell_type": "code",
   "execution_count": null,
   "metadata": {},
   "outputs": [],
   "source": [
    "class GraphConv(nn.Module):\n",
    "    def __init__(self, fourier, n_filter):\n",
    "        super(GraphConv, self).__init__()\n",
    "        \n",
    "        self.n = len(fourier)\n",
    "        self.u = Variable(fourier, requires_grad=False)\n",
    "        self.n_filter = n_filter\n",
    "        \n",
    "        self.weight = nn.Parameter(torch.Tensor(self.n, self.n_filter))\n",
    "        self.bias = nn.Parameter(torch.Tensor(self.n))\n",
    "        \n",
    "        stdv = 1. / np.sqrt(self.weight.size(1))\n",
    "        self.weight.data.uniform_(-stdv, stdv)\n",
    "        self.bias.data.uniform_(-stdv, stdv)\n",
    "\n",
    "    def forward(self, x): # samples x n\n",
    "        # fourier\n",
    "        out = x @ self.u # samples x n\n",
    "        \n",
    "        # filter\n",
    "        w = self.weight.unsqueeze(2) # n x f x 1\n",
    "        out = out.t().unsqueeze(1) # n x 1 x samples\n",
    "        out = w @ out # n x f x samples\n",
    "        \n",
    "        # un-fourier\n",
    "        out = out.permute(2, 1, 0).contiguous() # samples x f x n\n",
    "        out = out.view(-1, self.n) # (samples * f) x n\n",
    "        out = out @ self.u.t() # (samples * f) x n\n",
    "        out = out.view(-1, self.n_filter, self.n) # samples x f x n\n",
    "        \n",
    "        # bias?\n",
    "        out = out + self.bias # samples x f x n\n",
    "        return out"
   ]
  },
  {
   "cell_type": "code",
   "execution_count": null,
   "metadata": {},
   "outputs": [],
   "source": [
    "class Flatten(nn.Module):\n",
    "    def forward(self, x):\n",
    "        return x.view(x.size(0), -1)        "
   ]
  },
  {
   "cell_type": "code",
   "execution_count": null,
   "metadata": {},
   "outputs": [],
   "source": [
    "class GraphFourierConv(nn.Module):\n",
    "    def __init__(self, fourier_basis, in_channels, out_channels, bias=True):\n",
    "        super().__init__()\n",
    " \n",
    "        self.n = fourier_basis.size(0)\n",
    "        self.in_channels = in_channels\n",
    "        self.out_channels = out_channels\n",
    "        \n",
    "        assert fourier_basis.size(1) == self.n\n",
    "        self.u = Variable(fourier_basis, requires_grad=False) # n x n\n",
    "        self.ut = self.u.t()\n",
    "\n",
    "        self.weight = nn.Parameter(torch.Tensor(self.n, self.out_channels, 1)) # n x out x 1\n",
    "        \n",
    "        if bias:\n",
    "            self.bias = nn.Parameter(torch.Tensor(self.out_channels, 1))\n",
    "        else:\n",
    "            self.register_parameter('bias', None)\n",
    "            \n",
    "        self.reset_parameters()\n",
    "        \n",
    "    def reset_parameters(self):\n",
    "        stdv = 1. / np.sqrt(self.weight.size(1))\n",
    "        self.weight.data.uniform_(-stdv, stdv)\n",
    "        \n",
    "        if self.bias is not None:\n",
    "            self.bias.data.uniform_(-stdv, stdv)\n",
    "\n",
    "    def forward(self, x):\n",
    "        # batch x in x n\n",
    "\n",
    "        # fourier\n",
    "        out = x.view(-1, self.n) # (batch * in) x n\n",
    "        out = out @ self.u # (batch * in) x n\n",
    "        \n",
    "        # filter\n",
    "        out = out.t().unsqueeze(1) # n x 1 x (batch * in)\n",
    "        out = self.weight @ out # n x out x (batch * in)\n",
    "\n",
    "        # un-fourier\n",
    "        out = out.transpose(0, 2).contiguous() # (batch * in) x out x n\n",
    "        out = out.view(-1, self.n) # (batch * in * out) x n\n",
    "        out = out @ self.ut # (batch * in * out) x n\n",
    "        out = out.view(-1, self.in_channels, self.out_channels, self.n) # batch x in x out x n\n",
    "        \n",
    "        # sum in dim + bias\n",
    "        out = out.sum(1) # batch x out x n\n",
    "        if self.bias is not None:\n",
    "            out = out + self.bias # batch x out x n\n",
    "        \n",
    "        return out\n",
    "    \n",
    "    def __repr__(self):\n",
    "        return '{}(fourier_basis, {}, {}, bias={})'.format(__class__.__name__, self.in_channels, self.out_channels, self.bias)"
   ]
  },
  {
   "cell_type": "code",
   "execution_count": null,
   "metadata": {},
   "outputs": [],
   "source": [
    "conv1_dim = 16\n",
    "conv2_dim = 16\n",
    "\n",
    "net = nn.Sequential(\n",
    "    #GraphConv(f.cuda() if cuda else f, conv1_dim),\n",
    "    GraphFourierConv(f0.cuda() if cuda else f, 1, conv1_dim, bias=False),\n",
    "    nn.BatchNorm2d(conv1_dim),\n",
    "    nn.ReLU(),\n",
    "    nn.MaxPool1d(2),\n",
    "    \n",
    "    GraphFourierConv(f1.cuda() if cuda else f, conv1_dim, conv2_dim, bias=False),\n",
    "    nn.BatchNorm2d(conv2_dim),\n",
    "    nn.ReLU(),\n",
    "    nn.MaxPool1d(2),\n",
    "    \n",
    "    Flatten(),\n",
    "    nn.Linear(len(f1) // 2 * conv2_dim, 600),\n",
    "    nn.ReLU(),\n",
    "    nn.Linear(600, 200),\n",
    "    nn.ReLU(),\n",
    "    nn.Linear(200, 1),\n",
    ")\n",
    "criterion = nn.BCEWithLogitsLoss()\n",
    "optimizer = torch.optim.Adam(net.parameters(), lr=learning_rate)\n",
    "writer = SummaryWriter()\n",
    "\n",
    "if cuda:\n",
    "    net.cuda()\n",
    "    criterion.cuda()\n",
    "\n",
    "writer.add_graph(net, net(Variable(train_x.narrow(0, 0, 1)).cuda()))\n",
    "    \n",
    "epoch_train_loss = []\n",
    "epoch_test_loss = []"
   ]
  },
  {
   "cell_type": "code",
   "execution_count": null,
   "metadata": {},
   "outputs": [],
   "source": [
    "def loop(loader, training=False):\n",
    "    \n",
    "    running_loss = 0\n",
    "    targets = []\n",
    "    predictions = []\n",
    "    \n",
    "    for batch_id, (x, y) in enumerate(loader):\n",
    "        x = Variable(x)\n",
    "        y = Variable(y)\n",
    "        \n",
    "        if cuda:\n",
    "            x = x.cuda()\n",
    "            y = y.cuda()\n",
    "        \n",
    "        optimizer.zero_grad()\n",
    "        \n",
    "        outputs = net(x)\n",
    "        loss = criterion(outputs, y)\n",
    "\n",
    "        if training:\n",
    "            loss.backward()\n",
    "            optimizer.step()\n",
    "\n",
    "        running_loss += loss.data.cpu()[0]\n",
    "        targets.extend(y.data.cpu().numpy())\n",
    "        predictions.extend(outputs.sigmoid().data.cpu().numpy())\n",
    "        \n",
    "    return np.array(targets), np.array(predictions), running_loss"
   ]
  },
  {
   "cell_type": "code",
   "execution_count": null,
   "metadata": {},
   "outputs": [],
   "source": [
    "for e in range(num_epochs):\n",
    "\n",
    "    train_targets, train_preds, train_loss = loop(train_loader, training=True)\n",
    "    writer.add_scalar('data/train_loss', train_loss, e)\n",
    "    writer.add_scalar('data/train_accuracy', accuracy_score(train_targets, train_preds.round()), e)\n",
    "      \n",
    "    test_targets, test_preds, test_loss = loop(test_loader, training=False)\n",
    "    writer.add_scalar('data/test_loss', test_loss, e)\n",
    "    writer.add_scalar('data/test_accuracy', accuracy_score(test_targets, test_preds.round()), e)\n",
    "\n",
    "    train_loss /= train.shape[0]\n",
    "    test_loss /= test.shape[0]\n",
    "    \n",
    "    epoch_train_loss.append(train_loss)\n",
    "    epoch_test_loss.append(test_loss)\n",
    "    \n",
    "    print('epoch {:3d} - Training loss: {:.4f} Testing  loss: {:.4f}'.format(e,train_loss, test_loss))"
   ]
  },
  {
   "cell_type": "code",
   "execution_count": null,
   "metadata": {},
   "outputs": [],
   "source": [
    "plt.plot(epoch_train_loss, label='train')\n",
    "plt.plot(epoch_test_loss, label='test')\n",
    "plt.legend();"
   ]
  },
  {
   "cell_type": "code",
   "execution_count": null,
   "metadata": {},
   "outputs": [],
   "source": [
    "train_targets, train_preds, train_loss = loop(train_loader)\n",
    "accuracy_score(train_targets, train_preds.round())"
   ]
  },
  {
   "cell_type": "code",
   "execution_count": null,
   "metadata": {},
   "outputs": [],
   "source": [
    "log_loss(train_targets, train_preds)"
   ]
  },
  {
   "cell_type": "code",
   "execution_count": null,
   "metadata": {},
   "outputs": [],
   "source": [
    "test_targets, test_preds, test_loss = loop(test_loader)\n",
    "accuracy_score(test_targets, test_preds.round())"
   ]
  },
  {
   "cell_type": "code",
   "execution_count": null,
   "metadata": {},
   "outputs": [],
   "source": [
    "log_loss(test_targets, test_preds)"
   ]
  },
  {
   "cell_type": "code",
   "execution_count": null,
   "metadata": {},
   "outputs": [],
   "source": [
    "print(net)"
   ]
  },
  {
   "cell_type": "code",
   "execution_count": null,
   "metadata": {},
   "outputs": [],
   "source": []
  }
 ],
 "metadata": {
  "kernelspec": {
   "display_name": "Python 3",
   "language": "python",
   "name": "python3"
  },
  "language_info": {
   "codemirror_mode": {
    "name": "ipython",
    "version": 3
   },
   "file_extension": ".py",
   "mimetype": "text/x-python",
   "name": "python",
   "nbconvert_exporter": "python",
   "pygments_lexer": "ipython3",
   "version": "3.5.2"
  }
 },
 "nbformat": 4,
 "nbformat_minor": 2
}
