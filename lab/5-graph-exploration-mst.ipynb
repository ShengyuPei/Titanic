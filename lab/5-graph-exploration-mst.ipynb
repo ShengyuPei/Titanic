{
 "cells": [
  {
   "cell_type": "code",
   "execution_count": null,
   "metadata": {},
   "outputs": [],
   "source": [
    "% run 0-utils.ipynb"
   ]
  },
  {
   "cell_type": "code",
   "execution_count": null,
   "metadata": {},
   "outputs": [],
   "source": [
    "import torch.utils.data as data_utils\n",
    "from sklearn.model_selection import train_test_split\n",
    "from sklearn.metrics import accuracy_score, log_loss\n",
    "from sklearn.preprocessing import StandardScaler\n",
    "import scipy.sparse.csgraph\n",
    "from tensorboardX import SummaryWriter\n",
    "import skimage.transform as transform\n",
    "import networkx as nx\n",
    "from scipy import spatial\n",
    "from gcnn.graph import knn,grid_coordinates\n",
    "from gcnn.coarsening import graclus"
   ]
  },
  {
   "cell_type": "code",
   "execution_count": null,
   "metadata": {},
   "outputs": [],
   "source": [
    "#from pygsp.reduction import graph_sparsify#, kron_reduction\n",
    "from pygsp import graphs, filters, utils\n",
    "from scipy.sparse.linalg import eigsh\n",
    "from scipy.sparse import linalg\n",
    "from scipy import sparse, stats\n",
    "from scipy.sparse.csgraph import minimum_spanning_tree, dijkstra"
   ]
  },
  {
   "cell_type": "code",
   "execution_count": null,
   "metadata": {},
   "outputs": [],
   "source": [
    "from pyamg import smoothed_aggregation_solver"
   ]
  },
  {
   "cell_type": "code",
   "execution_count": null,
   "metadata": {},
   "outputs": [],
   "source": [
    "from gcnn.datasets import load_icebergs\n",
    "icebergs = load_icebergs('train')"
   ]
  },
  {
   "cell_type": "code",
   "execution_count": null,
   "metadata": {
    "scrolled": true
   },
   "outputs": [],
   "source": [
    "icebergs.head()"
   ]
  },
  {
   "cell_type": "code",
   "execution_count": null,
   "metadata": {},
   "outputs": [],
   "source": [
    "test = transform.rescale(icebergs.band_1.iloc[100].reshape(75, 75), 0.5, mode='constant')\n",
    "plt.imshow(test);"
   ]
  },
  {
   "cell_type": "code",
   "execution_count": null,
   "metadata": {},
   "outputs": [],
   "source": [
    "plt.spy(knn(grid_coordinates(3), k=1, metric='cityblock'));"
   ]
  },
  {
   "cell_type": "code",
   "execution_count": null,
   "metadata": {},
   "outputs": [],
   "source": [
    "test_dist = spatial.distance.squareform(spatial.distance.pdist(test.reshape(-1, 1), metric='euclidean'))\n",
    "plt.matshow(test_dist);"
   ]
  },
  {
   "cell_type": "code",
   "execution_count": null,
   "metadata": {},
   "outputs": [],
   "source": [
    "test_dist[np.where(knn(grid_coordinates(38), k=2) == 0)] = 0\n",
    "\n",
    "plt.subplot(121)\n",
    "plt.imshow(test_dist[:100, :100])\n",
    "\n",
    "plt.subplot(122)\n",
    "plt.spy(test_dist);"
   ]
  },
  {
   "cell_type": "code",
   "execution_count": null,
   "metadata": {},
   "outputs": [],
   "source": [
    "def calc_weight(n, root, pred, local_tree):\n",
    "    \n",
    "    if n==root:\n",
    "        return 0, root, root\n",
    "    \n",
    "    parent = pred[root, n]\n",
    "\n",
    "    w_p = local_tree[parent, n]\n",
    "    \n",
    "    gparent = pred[root, parent]\n",
    "    \n",
    "    if gparent != -9999:\n",
    "        w_d = local_tree[gparent, parent]\n",
    "    else:\n",
    "        w_d = 1\n",
    "        gparent = n\n",
    "        \n",
    "    w = 2./(1./w_p + 1./w_d)\n",
    "\n",
    "    return w, parent, gparent"
   ]
  },
  {
   "cell_type": "code",
   "execution_count": null,
   "metadata": {},
   "outputs": [],
   "source": [
    "plt.spy(test_dist)"
   ]
  },
  {
   "cell_type": "code",
   "execution_count": null,
   "metadata": {
    "scrolled": true
   },
   "outputs": [],
   "source": [
    "result, array = one_level_MST(test_dist)"
   ]
  },
  {
   "cell_type": "code",
   "execution_count": null,
   "metadata": {
    "scrolled": true
   },
   "outputs": [],
   "source": [
    "p = pd.DataFrame(array)\n",
    "pd.DataFrame(p[0].value_counts()).sort_values(0, ascending=False)"
   ]
  },
  {
   "cell_type": "code",
   "execution_count": null,
   "metadata": {
    "scrolled": true
   },
   "outputs": [],
   "source": [
    "def one_level_MST(test_dist):\n",
    "\n",
    "    test_dist_triu = np.triu(test_dist)\n",
    "    Tree = minimum_spanning_tree(test_dist_triu)\n",
    "    Tree = Tree + Tree.T\n",
    "    local_tree = Tree.todense()\n",
    "\n",
    "    distance_matrix, pred = dijkstra(Tree.todense(), directed=False, unweighted=True, return_predecessors=True)\n",
    "\n",
    "    root = np.random.choice(np.arange(distance_matrix.shape[0]))\n",
    "    even_nodes = distance_matrix[:, root] % 2 == 0\n",
    "    even_nodes = np.arange(1444)[even_nodes]\n",
    "\n",
    "    weight_tree = np.zeros((int(local_tree.shape[0]/2), int(local_tree.shape[1]/2)))\n",
    "    \n",
    "    array = [-1]*local_tree.shape[0]\n",
    "    cluster = 0\n",
    "    \n",
    "    for n in even_nodes:\n",
    "        new_weight, parent, gparent = calc_weight(n, root, pred, local_tree)\n",
    "        array[n] = cluster\n",
    "        array[parent] = cluster\n",
    "        cluster += 1\n",
    "        \n",
    "        n = int(n/2)\n",
    "        out_div = int(gparent/2)\n",
    "        weight_tree[n, out_div] = new_weight\n",
    "        weight_tree[out_div, n] = new_weight\n",
    "        \n",
    "    return weight_tree, array\n"
   ]
  },
  {
   "cell_type": "code",
   "execution_count": null,
   "metadata": {},
   "outputs": [],
   "source": [
    "G = graphs.Graph(Tree)\n",
    "G.set_coordinates()\n",
    "G.plot()"
   ]
  },
  {
   "cell_type": "code",
   "execution_count": null,
   "metadata": {},
   "outputs": [],
   "source": [
    "G2 = graphs.Graph(result)\n",
    "G2.set_coordinates()\n",
    "G2.plot()"
   ]
  },
  {
   "cell_type": "code",
   "execution_count": null,
   "metadata": {},
   "outputs": [],
   "source": [
    "plt.spy(weight_tree)"
   ]
  },
  {
   "cell_type": "code",
   "execution_count": null,
   "metadata": {},
   "outputs": [],
   "source": [
    "G1 = graphs.Graph(weight_tree)\n",
    "G1.set_coordinates()\n",
    "G1.plot()"
   ]
  },
  {
   "cell_type": "code",
   "execution_count": null,
   "metadata": {},
   "outputs": [],
   "source": [
    "G = sp.sparse.csr.csr_matrix(knn(grid_coordinates(4), 1, metric='cityblock'))"
   ]
  },
  {
   "cell_type": "code",
   "execution_count": null,
   "metadata": {},
   "outputs": [],
   "source": [
    "plt.spy(G.todense())"
   ]
  },
  {
   "cell_type": "code",
   "execution_count": null,
   "metadata": {},
   "outputs": [],
   "source": [
    "graph, perm = graclus.coarsen(G, levels=2, self_connections=False)"
   ]
  },
  {
   "cell_type": "code",
   "execution_count": null,
   "metadata": {},
   "outputs": [],
   "source": [
    "perm"
   ]
  },
  {
   "cell_type": "code",
   "execution_count": null,
   "metadata": {
    "scrolled": false
   },
   "outputs": [],
   "source": [
    "for g in graph:\n",
    "    plt.subplot(121)\n",
    "    plt.spy(g.todense())\n",
    "    plt.subplot(122)\n",
    "    nx.draw(nx.from_numpy_array(g.todense()))\n",
    "    plt.show()"
   ]
  },
  {
   "cell_type": "code",
   "execution_count": null,
   "metadata": {},
   "outputs": [],
   "source": [
    "gr = grid_coordinates(38)\n",
    "gr.shape"
   ]
  },
  {
   "cell_type": "code",
   "execution_count": null,
   "metadata": {},
   "outputs": [],
   "source": [
    "mask = knn(gr, k=3)\n",
    "plt.spy(mask[:40, :40]);"
   ]
  },
  {
   "cell_type": "code",
   "execution_count": null,
   "metadata": {},
   "outputs": [],
   "source": [
    "graph, perm = graclus.coarsen(sp.sparse.csr.csr_matrix(mask), levels=3, self_connections=False)"
   ]
  }
 ],
 "metadata": {
  "kernelspec": {
   "display_name": "Python 3",
   "language": "python",
   "name": "python3"
  },
  "language_info": {
   "codemirror_mode": {
    "name": "ipython",
    "version": 3
   },
   "file_extension": ".py",
   "mimetype": "text/x-python",
   "name": "python",
   "nbconvert_exporter": "python",
   "pygments_lexer": "ipython3",
   "version": "3.5.2"
  }
 },
 "nbformat": 4,
 "nbformat_minor": 2
}
