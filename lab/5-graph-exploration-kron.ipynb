{
 "cells": [
  {
   "cell_type": "code",
   "execution_count": null,
   "metadata": {},
   "outputs": [],
   "source": [
    "% run 1-datasource.ipynb"
   ]
  },
  {
   "cell_type": "code",
   "execution_count": null,
   "metadata": {},
   "outputs": [],
   "source": [
    "% run 4-graph-utils.ipynb"
   ]
  },
  {
   "cell_type": "code",
   "execution_count": null,
   "metadata": {},
   "outputs": [],
   "source": [
    "import torch.utils.data as data_utils\n",
    "from sklearn.model_selection import train_test_split\n",
    "from sklearn.metrics import accuracy_score, log_loss\n",
    "from sklearn.preprocessing import StandardScaler\n",
    "import scipy.sparse.csgraph\n",
    "from tensorboardX import SummaryWriter\n",
    "import skimage.transform as transform\n",
    "import networkx as nx\n",
    "from scipy import spatial"
   ]
  },
  {
   "cell_type": "code",
   "execution_count": null,
   "metadata": {},
   "outputs": [],
   "source": [
    "#from pygsp.reduction import graph_sparsify#, kron_reduction\n",
    "from pygsp import graphs, filters, utils\n",
    "from scipy.sparse.linalg import eigsh\n",
    "from scipy.sparse import linalg\n",
    "from scipy import sparse, stats"
   ]
  },
  {
   "cell_type": "code",
   "execution_count": null,
   "metadata": {},
   "outputs": [],
   "source": [
    "icebergs.head()"
   ]
  },
  {
   "cell_type": "code",
   "execution_count": null,
   "metadata": {},
   "outputs": [],
   "source": [
    "test = transform.rescale(icebergs.band_1.iloc[100].reshape(75, 75), 0.5, mode='constant')\n",
    "plt.imshow(test);"
   ]
  },
  {
   "cell_type": "code",
   "execution_count": null,
   "metadata": {},
   "outputs": [],
   "source": [
    "plt.spy(distance(grid(3), k=1, metric='cityblock'));"
   ]
  },
  {
   "cell_type": "code",
   "execution_count": null,
   "metadata": {},
   "outputs": [],
   "source": [
    "test_dist = spatial.distance.squareform(spatial.distance.pdist(test.reshape(-1, 1), metric='euclidean'))\n",
    "plt.matshow(test_dist);"
   ]
  },
  {
   "cell_type": "code",
   "execution_count": null,
   "metadata": {},
   "outputs": [],
   "source": [
    "test_dist[np.where(distance(grid(38), k=2) == 0)] = 0\n",
    "\n",
    "plt.subplot(121)\n",
    "plt.imshow(test_dist[:100, :100])\n",
    "\n",
    "plt.subplot(122)\n",
    "plt.spy(test_dist);"
   ]
  },
  {
   "cell_type": "code",
   "execution_count": null,
   "metadata": {},
   "outputs": [],
   "source": [
    "def graph_sparsify(M, epsilon, maxiter=10):\n",
    "    r\"\"\"Sparsify a graph (with Spielman-Srivastava).\n",
    "\n",
    "    Parameters\n",
    "    ----------\n",
    "    M : Graph or sparse matrix\n",
    "        Graph structure or a Laplacian matrix\n",
    "    epsilon : int\n",
    "        Sparsification parameter\n",
    "\n",
    "    Returns\n",
    "    -------\n",
    "    Mnew : Graph or sparse matrix\n",
    "        New graph structure or sparse matrix\n",
    "\n",
    "    Notes\n",
    "    -----\n",
    "    Epsilon should be between 1/sqrt(N) and 1\n",
    "\n",
    "    Examples\n",
    "    --------\n",
    "    >>> from pygsp import reduction\n",
    "    >>> G = graphs.Sensor(256, Nc=20, distribute=True)\n",
    "    >>> epsilon = 0.4\n",
    "    >>> G2 = reduction.graph_sparsify(G, epsilon)\n",
    "\n",
    "    References\n",
    "    ----------\n",
    "    See :cite:`spielman2011graph`, :cite:`rudelson1999random` and :cite:`rudelson2007sampling`.\n",
    "    for more informations\n",
    "\n",
    "    \"\"\"\n",
    "    # Test the input parameters\n",
    "    if isinstance(M, graphs.Graph):\n",
    "        \"\"\"if not M.lap_type == 'combinatorial':\n",
    "            raise NotImplementedError\"\"\"\n",
    "        L = M.L\n",
    "    else:\n",
    "        L = M\n",
    "\n",
    "    N = np.shape(L)[0]\n",
    "\n",
    "    if not 1./np.sqrt(N) <= epsilon < 1:\n",
    "        raise ValueError('GRAPH_SPARSIFY: Epsilon out of required range')\n",
    "\n",
    "    # Not sparse\n",
    "    resistance_distances = resistance_distance(L).toarray()\n",
    "    # Get the Weight matrix\n",
    "    if isinstance(M, graphs.Graph):\n",
    "        W = M.W\n",
    "    else:\n",
    "        W = np.diag(L.diagonal()) - L.toarray()\n",
    "        W[W < 1e-10] = 0\n",
    "\n",
    "    W = sparse.coo_matrix(W)\n",
    "    W.data[W.data < 1e-10] = 0\n",
    "    W = W.tocsc()\n",
    "    W.eliminate_zeros()\n",
    "\n",
    "    start_nodes, end_nodes, weights = sparse.find(sparse.tril(W))\n",
    "\n",
    "    # Calculate the new weights.\n",
    "    weights = np.maximum(0, weights)\n",
    "    Re = np.maximum(0, resistance_distances[start_nodes, end_nodes])\n",
    "    Pe = weights * Re\n",
    "    Pe = Pe / np.sum(Pe)\n",
    "\n",
    "    for i in range(maxiter):\n",
    "        # Rudelson, 1996 Random Vectors in the Isotropic Position\n",
    "        # (too hard to figure out actual C0)\n",
    "        C0 = 1 / 30.\n",
    "        # Rudelson and Vershynin, 2007, Thm. 3.1\n",
    "        C = 4 * C0\n",
    "        q = round(N * np.log(N) * 9 * C**2 / (epsilon**2))\n",
    "\n",
    "        results = stats.rv_discrete(values=(np.arange(np.shape(Pe)[0]), Pe)).rvs(size=int(q))\n",
    "        spin_counts = stats.itemfreq(results).astype(int)\n",
    "        per_spin_weights = weights / (q * Pe)\n",
    "\n",
    "        counts = np.zeros(np.shape(weights)[0])\n",
    "        counts[spin_counts[:, 0]] = spin_counts[:, 1]\n",
    "        new_weights = counts * per_spin_weights\n",
    "\n",
    "        sparserW = sparse.csc_matrix((new_weights, (start_nodes, end_nodes)),\n",
    "                                     shape=(N, N))\n",
    "        sparserW = sparserW + sparserW.T\n",
    "        sparserL = sparse.diags(sparserW.diagonal(), 0) - sparserW\n",
    "\n",
    "        if graphs.Graph(W=sparserW).is_connected():\n",
    "            break\n",
    "        elif i == maxiter - 1:\n",
    "            logger.warning('Despite attempts to reduce epsilon, sparsified graph is disconnected')\n",
    "        else:\n",
    "            epsilon -= (epsilon - 1/np.sqrt(N)) / 2.\n",
    "\n",
    "    if isinstance(M, graphs.Graph):\n",
    "        sparserW = sparse.diags(sparserL.diagonal(), 0) - sparserL\n",
    "        if not M.is_directed():\n",
    "            sparserW = (sparserW + sparserW.T) / 2.\n",
    "\n",
    "        Mnew = graphs.Graph(W=sparserW)\n",
    "        #M.copy_graph_attributes(Mnew)\n",
    "    else:\n",
    "        Mnew = sparse.lil_matrix(sparserL)\n",
    "\n",
    "    return Mnew\n",
    "\n",
    "def resistance_distance(G):\n",
    "    r\"\"\"\n",
    "    Compute the resistance distances of a graph.\n",
    "\n",
    "    Parameters\n",
    "    ----------\n",
    "    G : Graph or sparse matrix\n",
    "        Graph structure or Laplacian matrix (L)\n",
    "\n",
    "    Returns\n",
    "    -------\n",
    "    rd : sparse matrix\n",
    "        distance matrix\n",
    "\n",
    "    References\n",
    "    ----------\n",
    "    :cite:`klein1993resistance`\n",
    "    \"\"\"\n",
    "\n",
    "    if sparse.issparse(G):\n",
    "        L = G.tocsc()\n",
    "\n",
    "    else:\n",
    "        \"\"\"if G.lap_type != 'combinatorial':\n",
    "            raise ValueError('Need a combinatorial Laplacian.')\"\"\"\n",
    "        L = G.L.tocsc()\n",
    "\n",
    "    pseudo = sparse.lil_matrix(np.linalg.pinv(L.toarray()))\n",
    "\n",
    "    N = np.shape(L)[0]\n",
    "    d = sparse.csc_matrix(pseudo.diagonal())\n",
    "    rd = sparse.kron(d, sparse.csc_matrix(np.ones((N, 1)))).T \\\n",
    "        + sparse.kron(d, sparse.csc_matrix(np.ones((N, 1)))) \\\n",
    "        - pseudo - pseudo.T\n",
    "\n",
    "    return rd\n",
    "\n",
    "def kron_reduction(G, ind):\n",
    "    if isinstance(G, graphs.Graph):\n",
    "        L = G.L\n",
    "    else:\n",
    "        L = G\n",
    "    \n",
    "    L.eliminate_zeros()\n",
    "\n",
    "    N = np.shape(L)[0]\n",
    "    ind_comp = np.setdiff1d(np.arange(N, dtype=int), ind)\n",
    "\n",
    "    L_red = L[np.ix_(ind, ind)]\n",
    "    L_in_out = L[np.ix_(ind, ind_comp)]\n",
    "    L_out_in = L[np.ix_(ind_comp, ind)].tocsc()\n",
    "    L_comp = L[np.ix_(ind_comp, ind_comp)].tocsc()\n",
    "    \n",
    "    \n",
    "\n",
    "    Lnew = L_red - L_in_out.dot(linalg.spsolve(L_comp, L_out_in))\n",
    "    \n",
    "    #Lnew = Lnew +  sp.sparse.eye(Lnew.shape[0])\n",
    "\n",
    "    # Make the laplacian symmetric if it is almost symmetric!\n",
    "    if np.abs(Lnew - Lnew.T).sum() < np.spacing(1) * np.abs(Lnew).sum():\n",
    "        Lnew = (Lnew + Lnew.T) / 2.\n",
    "\n",
    "    if isinstance(G, graphs.Graph):\n",
    "        # Suppress the diagonal ? This is a good question?\n",
    "        Wnew = sp.sparse.diags(Lnew.diagonal(), 0) - Lnew\n",
    "        Snew = Lnew.diagonal() - np.ravel(Wnew.sum(0))\n",
    "        if np.linalg.norm(Snew, 2) >= np.spacing(1000):\n",
    "            Wnew = Wnew + sp.sparse.diags(Snew, 0)\n",
    "\n",
    "        # Removing diagonal for stability\n",
    "        \n",
    "\n",
    "        coords = G.coords[ind, :] if len(G.coords.shape) else np.ndarray(None)\n",
    "        \n",
    "        \n",
    "        Wnew = Wnew - Wnew.diagonal()\n",
    "        \n",
    "        #Wnew = (Wnew + Wnew.T)/2.0\n",
    "        \n",
    "        Gnew = graphs.Graph(W=Wnew, coords=coords, lap_type='combinatorial',\n",
    "                            plotting=G.plotting, gtype='Kron reduction')\n",
    "    else:\n",
    "        Gnew = Lnew\n",
    "\n",
    "    return Gnew\n",
    "\n",
    "def graph_multiresolution(G, levels=3, sparsify=True, reg_eps=0.005, sparsify_eps = None):\n",
    "    if sparsify_eps == None:\n",
    "        sparsify_eps = min(10. / np.sqrt(G.N), 0.3)\n",
    "    #G.estimate_lmax()\n",
    "\n",
    "    Gs = [G]\n",
    "    Gs[0].mr = {'idx': np.arange(G.N), 'orig_idx': np.arange(G.N)}\n",
    "\n",
    "    for i in range(levels):\n",
    "\n",
    "        if hasattr(Gs[i], '_U'):\n",
    "            V = Gs[i].U[:, -1]\n",
    "        else:\n",
    "            V = np.linalg.eigh(Gs[i].L.todense())[1][:, -1]\n",
    "\n",
    "        V *= np.sign(V[0])\n",
    "        ind = np.nonzero(V >= 0)[0]\n",
    "        N = V.shape[0]\n",
    "\n",
    "        #U1, V1 = linalg.eigsh(Gs[i].L, k=3, which='SM')\n",
    "        #coords = list(zip(V1[:, 1], V1[:, 2]))\n",
    "        Gs[i].set_coordinates()\n",
    "        Gs.append(kron_reduction(Gs[i], ind))\n",
    "        #Gs[i].L = rw_laplacian(Gs[i].W)\n",
    "\n",
    "        if sparsify and Gs[i+1].N > 2:\n",
    "            Gs[i+1] = graph_sparsify(Gs[i+1], min(max(sparsify_eps, 2. / np.sqrt(Gs[i+1].N)), 1.))\n",
    "\n",
    "        #Gs[i+1].estimate_lmax()\n",
    "\n",
    "        Gs[i+1].mr = {'idx': ind, 'orig_idx': Gs[i].mr['orig_idx'][ind], 'level': i}\n",
    "\n",
    "        L_reg = Gs[i].L + reg_eps * sp.sparse.eye(Gs[i].N)\n",
    "        Gs[i].mr['K_reg'] = kron_reduction(L_reg, ind)\n",
    "        Gs[i].mr['green_kernel'] = filters.Filter(Gs[i], lambda x: 1./(reg_eps + x))\n",
    "        Gs[i].compute_fourier_basis()\n",
    "    return Gs"
   ]
  },
  {
   "cell_type": "code",
   "execution_count": null,
   "metadata": {},
   "outputs": [],
   "source": [
    "G = graphs.Graph(test_dist)\n",
    "#G.L = rw_laplacian(G.W)\n",
    "#U, V = np.linalg.eigh(G.L.todense())\n",
    "#V = sp.sparse.linalg.eigs(G.L, 1, which='LM')[1][:, 0]\n",
    "#print(V[:,-1])\n",
    "G.set_coordinates()"
   ]
  },
  {
   "cell_type": "code",
   "execution_count": null,
   "metadata": {
    "scrolled": false
   },
   "outputs": [],
   "source": [
    "Gs = graph_multiresolution(G)"
   ]
  },
  {
   "cell_type": "code",
   "execution_count": null,
   "metadata": {
    "scrolled": false
   },
   "outputs": [],
   "source": [
    "for g in Gs:\n",
    "\n",
    "    g.plot()"
   ]
  },
  {
   "cell_type": "markdown",
   "metadata": {},
   "source": [
    "690, 2010\n",
    "\n",
    "370, 1379"
   ]
  },
  {
   "cell_type": "code",
   "execution_count": null,
   "metadata": {
    "scrolled": false
   },
   "outputs": [],
   "source": [
    "for g in Gs:\n",
    "    plt.subplot(121)\n",
    "    plt.spy(g.W.todense()[:100,:100])\n",
    "    plt.subplot(122)\n",
    "    g.plot()"
   ]
  },
  {
   "cell_type": "code",
   "execution_count": null,
   "metadata": {},
   "outputs": [],
   "source": [
    "Gs[2].W.todense()"
   ]
  },
  {
   "cell_type": "code",
   "execution_count": null,
   "metadata": {},
   "outputs": [],
   "source": [
    "Gs[2].W"
   ]
  },
  {
   "cell_type": "code",
   "execution_count": null,
   "metadata": {},
   "outputs": [],
   "source": [
    "plt.spy(Gs[2].W.todense());"
   ]
  },
  {
   "cell_type": "code",
   "execution_count": null,
   "metadata": {},
   "outputs": [],
   "source": [
    "G = sp.sparse.csr.csr_matrix(distance(grid(4), 1, metric='cityblock'))"
   ]
  },
  {
   "cell_type": "code",
   "execution_count": null,
   "metadata": {},
   "outputs": [],
   "source": [
    "plt.spy(G.todense())"
   ]
  },
  {
   "cell_type": "code",
   "execution_count": null,
   "metadata": {},
   "outputs": [],
   "source": [
    "graphs, perm = coarsen(G, levels=2, self_connections=False)"
   ]
  },
  {
   "cell_type": "code",
   "execution_count": null,
   "metadata": {},
   "outputs": [],
   "source": [
    "perm"
   ]
  },
  {
   "cell_type": "code",
   "execution_count": null,
   "metadata": {
    "scrolled": false
   },
   "outputs": [],
   "source": [
    "for g in graphs:\n",
    "    plt.subplot(121)\n",
    "    plt.spy(g.todense())\n",
    "    plt.subplot(122)\n",
    "    nx.draw(nx.from_numpy_array(g.todense()))\n",
    "    plt.show()"
   ]
  },
  {
   "cell_type": "code",
   "execution_count": null,
   "metadata": {},
   "outputs": [],
   "source": [
    "gr = grid(38)\n",
    "gr.shape"
   ]
  },
  {
   "cell_type": "code",
   "execution_count": null,
   "metadata": {},
   "outputs": [],
   "source": [
    "mask = distance(gr, k=3) > 0\n",
    "plt.spy(mask[:40, :40]);"
   ]
  },
  {
   "cell_type": "code",
   "execution_count": null,
   "metadata": {},
   "outputs": [],
   "source": [
    "graphs, perm = coarsen(sp.sparse.csr.csr_matrix(mask), levels=3, self_connections=False)"
   ]
  },
  {
   "cell_type": "code",
   "execution_count": null,
   "metadata": {},
   "outputs": [],
   "source": []
  },
  {
   "cell_type": "code",
   "execution_count": null,
   "metadata": {},
   "outputs": [],
   "source": []
  }
 ],
 "metadata": {
  "kernelspec": {
   "display_name": "Python 3",
   "language": "python",
   "name": "python3"
  },
  "language_info": {
   "codemirror_mode": {
    "name": "ipython",
    "version": 3
   },
   "file_extension": ".py",
   "mimetype": "text/x-python",
   "name": "python",
   "nbconvert_exporter": "python",
   "pygments_lexer": "ipython3",
   "version": "3.5.2"
  }
 },
 "nbformat": 4,
 "nbformat_minor": 2
}
