{
 "cells": [
  {
   "cell_type": "code",
   "execution_count": null,
   "metadata": {},
   "outputs": [],
   "source": [
    "% run 1-datasource.ipynb"
   ]
  },
  {
   "cell_type": "code",
   "execution_count": null,
   "metadata": {},
   "outputs": [],
   "source": [
    "import torch.utils.data as data_utils\n",
    "from sklearn.model_selection import train_test_split\n",
    "from sklearn.preprocessing import StandardScaler\n",
    "from sklearn.metrics import accuracy_score, log_loss\n",
    "from sklearn.preprocessing import StandardScaler\n",
    "from tensorboardX import SummaryWriter"
   ]
  },
  {
   "cell_type": "code",
   "execution_count": null,
   "metadata": {},
   "outputs": [],
   "source": [
    "def tensorify(data):\n",
    "    return torch.from_numpy(data.reshape(-1, 1, 75, 75)).float()"
   ]
  },
  {
   "cell_type": "code",
   "execution_count": null,
   "metadata": {},
   "outputs": [],
   "source": [
    "icebergs.head()"
   ]
  },
  {
   "cell_type": "code",
   "execution_count": null,
   "metadata": {},
   "outputs": [],
   "source": [
    "train, test = train_test_split(icebergs, test_size=0.1, stratify=icebergs.is_iceberg)\n",
    "test.shape"
   ]
  },
  {
   "cell_type": "code",
   "execution_count": null,
   "metadata": {},
   "outputs": [],
   "source": [
    "scaler_1 = StandardScaler()\n",
    "scaler_2 = StandardScaler()"
   ]
  },
  {
   "cell_type": "code",
   "execution_count": null,
   "metadata": {},
   "outputs": [],
   "source": [
    "for _, i in train.iterrows():\n",
    "    scaler_1.partial_fit(i.band_1.reshape(1, -1))\n",
    "    scaler_2.partial_fit(i.band_2.reshape(1, -1))"
   ]
  },
  {
   "cell_type": "code",
   "execution_count": null,
   "metadata": {},
   "outputs": [],
   "source": [
    "train_x = torch.from_numpy(\n",
    "    np.stack(\n",
    "        [\n",
    "            scaler_1.transform(np.stack(train.band_1)),\n",
    "            scaler_2.transform(np.stack(train.band_2)),\n",
    "        ],\n",
    "        axis=1\n",
    "    ).reshape(-1, 2, 75, 75)\n",
    ").float()\n",
    "test_x = torch.from_numpy(\n",
    "    np.stack(\n",
    "        [\n",
    "            scaler_1.transform(np.stack(test.band_1)),\n",
    "            scaler_2.transform(np.stack(test.band_2)),\n",
    "        ],\n",
    "        axis=1\n",
    "    ).reshape(-1, 2, 75, 75)\n",
    ").float()\n",
    "train_y = torch.from_numpy(train.is_iceberg.values.reshape(-1, 1)).float()\n",
    "test_y = torch.from_numpy(test.is_iceberg.values.reshape(-1, 1)).float()"
   ]
  },
  {
   "cell_type": "code",
   "execution_count": null,
   "metadata": {},
   "outputs": [],
   "source": [
    "cuda = torch.cuda.is_available()\n",
    "num_epochs = 1\n",
    "batch_size = 25\n",
    "learning_rate = 0.00001\n",
    "cuda"
   ]
  },
  {
   "cell_type": "code",
   "execution_count": null,
   "metadata": {},
   "outputs": [],
   "source": [
    "train_loader = data_utils.DataLoader(data_utils.TensorDataset(train_x, train_y), batch_size=batch_size, shuffle=True)\n",
    "test_loader = data_utils.DataLoader(data_utils.TensorDataset(test_x, test_y), batch_size=batch_size, shuffle=True)"
   ]
  },
  {
   "cell_type": "code",
   "execution_count": null,
   "metadata": {},
   "outputs": [],
   "source": [
    "class Net(nn.Module):\n",
    "    def __init__(self):\n",
    "        super(Net, self).__init__()\n",
    "\n",
    "        self.layer1 = nn.Sequential(\n",
    "            nn.Conv2d(2, 16, kernel_size=5, stride=1, padding=2, groups=2),\n",
    "            nn.BatchNorm2d(16),\n",
    "            nn.ReLU(),\n",
    "            nn.MaxPool2d(2)\n",
    "        )\n",
    "        self.layer2 = nn.Sequential(\n",
    "            nn.Conv2d(16, 32, kernel_size=5, stride=1, padding=2),\n",
    "            nn.BatchNorm2d(32),\n",
    "            nn.ReLU(),\n",
    "            nn.MaxPool2d(2)\n",
    "        )\n",
    "        self.fc = nn.Sequential(\n",
    "            nn.Linear(32 * 18 * 18, 600),\n",
    "            nn.ReLU(),\n",
    "            nn.Linear(600, 200),\n",
    "            nn.ReLU(),\n",
    "            nn.Linear(200, 1),\n",
    "        )\n",
    "\n",
    "    def forward(self, x):\n",
    "        out = self.layer1(x)\n",
    "        out = self.layer2(out)\n",
    "        out = out.view(out.size(0), -1)\n",
    "        out = self.fc(out)\n",
    "        return out"
   ]
  },
  {
   "cell_type": "code",
   "execution_count": null,
   "metadata": {},
   "outputs": [],
   "source": [
    "net = Net()\n",
    "criterion = nn.BCEWithLogitsLoss()\n",
    "optimizer = torch.optim.Adam(net.parameters(), lr=learning_rate)\n",
    "writer = SummaryWriter()\n",
    "writer.add_graph(net, net(Variable(train_x.narrow(0, 0, 1))))\n",
    "\n",
    "if cuda:\n",
    "    net.cuda()\n",
    "    criterion.cuda()\n",
    "    \n",
    "epoch_train_loss = []\n",
    "epoch_test_loss = []"
   ]
  },
  {
   "cell_type": "code",
   "execution_count": null,
   "metadata": {},
   "outputs": [],
   "source": [
    "def loop(loader, training=False):\n",
    "    \n",
    "    running_loss = 0\n",
    "    targets = []\n",
    "    predictions = []\n",
    "    \n",
    "    for batch_id, (x, y) in enumerate(loader):\n",
    "        x = Variable(x)\n",
    "        y = Variable(y).squeeze()\n",
    "        \n",
    "        if cuda:\n",
    "            x = x.cuda()\n",
    "            y = y.cuda()\n",
    "        \n",
    "        optimizer.zero_grad()\n",
    "        \n",
    "        outputs = net(x)\n",
    "        loss = criterion(outputs, y.view(-1, 1))\n",
    "\n",
    "        if training:\n",
    "            loss.backward()\n",
    "            optimizer.step()\n",
    "\n",
    "        running_loss += loss.data.cpu()[0]\n",
    "        targets.extend(y.data.cpu().numpy())\n",
    "        predictions.extend(outputs.sigmoid().data.cpu().numpy())\n",
    "        \n",
    "    return np.array(targets), np.array(predictions), running_loss"
   ]
  },
  {
   "cell_type": "code",
   "execution_count": null,
   "metadata": {
    "scrolled": true
   },
   "outputs": [],
   "source": [
    "for e in range(30):\n",
    "\n",
    "    train_targets, train_preds, train_loss = loop(train_loader, training=True)\n",
    "    writer.add_scalar('data/train_loss', train_loss, e)\n",
    "    writer.add_scalar('data/train_accuracy', accuracy_score(train_targets, train_preds.argmax(axis=1)), e)\n",
    "      \n",
    "    test_targets, test_preds, test_loss = loop(test_loader, training=False)\n",
    "    writer.add_scalar('data/test_loss', test_loss, e)\n",
    "    writer.add_scalar('data/test_accuracy', accuracy_score(test_targets, test_preds.argmax(axis=1)), e)\n",
    "\n",
    "    train_loss /= train.shape[0]\n",
    "    test_loss /= test.shape[0]\n",
    "    \n",
    "    epoch_train_loss.append(train_loss)\n",
    "    epoch_test_loss.append(test_loss)\n",
    "    \n",
    "    print('Training loss: {:.4f}'.format(train_loss))\n",
    "    print('Testing  loss: {:.4f}'.format(test_loss))"
   ]
  },
  {
   "cell_type": "code",
   "execution_count": null,
   "metadata": {
    "scrolled": true
   },
   "outputs": [],
   "source": [
    "plt.plot(epoch_train_loss, label='train')\n",
    "plt.plot(epoch_test_loss, label='test')\n",
    "plt.legend();"
   ]
  },
  {
   "cell_type": "code",
   "execution_count": null,
   "metadata": {},
   "outputs": [],
   "source": [
    "train_targets, train_preds, train_loss = loop(train_loader)\n",
    "accuracy_score(train_targets, train_preds.round())"
   ]
  },
  {
   "cell_type": "code",
   "execution_count": null,
   "metadata": {},
   "outputs": [],
   "source": [
    "log_loss(train_targets, train_preds)"
   ]
  },
  {
   "cell_type": "code",
   "execution_count": null,
   "metadata": {},
   "outputs": [],
   "source": [
    "test_targets, test_preds, test_loss = loop(test_loader)\n",
    "accuracy_score(test_targets, test_preds.round())"
   ]
  },
  {
   "cell_type": "code",
   "execution_count": null,
   "metadata": {},
   "outputs": [],
   "source": [
    "log_loss(test_targets, test_preds)"
   ]
  },
  {
   "cell_type": "code",
   "execution_count": null,
   "metadata": {},
   "outputs": [],
   "source": []
  },
  {
   "cell_type": "code",
   "execution_count": null,
   "metadata": {},
   "outputs": [],
   "source": [
    "icebergs_test = load_test_set()"
   ]
  },
  {
   "cell_type": "code",
   "execution_count": null,
   "metadata": {},
   "outputs": [],
   "source": [
    "icebergs_test.head()"
   ]
  },
  {
   "cell_type": "code",
   "execution_count": null,
   "metadata": {},
   "outputs": [],
   "source": [
    "def predict_testset(icebergs_test):\n",
    "    scaler_1 = StandardScaler()\n",
    "    scaler_2 = StandardScaler()\n",
    "    \n",
    "    for _, i in icebergs_test.iterrows():\n",
    "        scaler_1.partial_fit(i.band_1.reshape(1, -1))\n",
    "        scaler_2.partial_fit(i.band_2.reshape(1, -1))\n",
    "    \n",
    "    testset_x = torch.from_numpy(\n",
    "        np.stack(\n",
    "            [\n",
    "                scaler_1.transform(np.stack(icebergs_test.band_1)),\n",
    "                scaler_2.transform(np.stack(icebergs_test.band_2)),\n",
    "            ],\n",
    "            axis=1\n",
    "        ).reshape(-1, 2, 75, 75)\n",
    "    ).float()\n",
    "\n",
    "    testset_y = torch.from_numpy(np.zeros((len(testset_x), 1))).float()\n",
    "\n",
    "    testset_loader = data_utils.DataLoader(data_utils.TensorDataset(testset_x, testset_y), batch_size=batch_size, shuffle=False)\n",
    "    \n",
    "    targets, preds, loss = loop(testset_loader, training=False)\n",
    "    \n",
    "    icebergs_test['is_iceberg'] = preds\n",
    "    \n",
    "    icebergs_test[['is_iceberg']].to_csv('data/submission.csv')\n",
    "    \n",
    "    return targets, preds, loss"
   ]
  },
  {
   "cell_type": "code",
   "execution_count": null,
   "metadata": {},
   "outputs": [],
   "source": [
    "t, p ,l = predict_testset(icebergs_test)"
   ]
  },
  {
   "cell_type": "code",
   "execution_count": null,
   "metadata": {},
   "outputs": [],
   "source": [
    "icebergs_test.head()"
   ]
  },
  {
   "cell_type": "code",
   "execution_count": null,
   "metadata": {},
   "outputs": [],
   "source": []
  }
 ],
 "metadata": {
  "kernelspec": {
   "display_name": "Python 3",
   "language": "python",
   "name": "python3"
  },
  "language_info": {
   "codemirror_mode": {
    "name": "ipython",
    "version": 3
   },
   "file_extension": ".py",
   "mimetype": "text/x-python",
   "name": "python",
   "nbconvert_exporter": "python",
   "pygments_lexer": "ipython3",
   "version": "3.5.2"
  }
 },
 "nbformat": 4,
 "nbformat_minor": 2
}
