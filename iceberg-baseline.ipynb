{
 "cells": [
  {
   "cell_type": "code",
   "execution_count": null,
   "metadata": {},
   "outputs": [],
   "source": [
    "% run utils.ipynb"
   ]
  },
  {
   "cell_type": "code",
   "execution_count": null,
   "metadata": {},
   "outputs": [],
   "source": [
    "import torch.utils.data as data_utils\n",
    "from sklearn.metrics import accuracy_score, log_loss\n",
    "from sklearn.preprocessing import StandardScaler\n",
    "from tensorboardX import SummaryWriter"
   ]
  },
  {
   "cell_type": "code",
   "execution_count": null,
   "metadata": {},
   "outputs": [],
   "source": [
    "size = 75"
   ]
  },
  {
   "cell_type": "code",
   "execution_count": null,
   "metadata": {},
   "outputs": [],
   "source": [
    "df = pd.read_json('train.json')\n",
    "df.head()"
   ]
  },
  {
   "cell_type": "code",
   "execution_count": null,
   "metadata": {},
   "outputs": [],
   "source": [
    "s = StandardScaler()\n",
    "for r in df.band_1:\n",
    "    s.partial_fit(np.reshape(r, (-1, 1)))"
   ]
  },
  {
   "cell_type": "code",
   "execution_count": null,
   "metadata": {},
   "outputs": [],
   "source": [
    "def tensorify(col):\n",
    "    data = s.transform(np.stack(col.values))\n",
    "    return torch.from_numpy(data.reshape(-1, 1, size, size)).float()"
   ]
  },
  {
   "cell_type": "code",
   "execution_count": null,
   "metadata": {},
   "outputs": [],
   "source": [
    "split_train_test = np.random.rand(len(df)) < 0.9\n",
    "train = df[split_train_test]\n",
    "test = df[~split_train_test]"
   ]
  },
  {
   "cell_type": "code",
   "execution_count": null,
   "metadata": {},
   "outputs": [],
   "source": [
    "train_x = tensorify(train.band_1)\n",
    "test_x = tensorify(test.band_1)\n",
    "train_y = torch.from_numpy(train.is_iceberg.values.reshape(-1, 1)).float()\n",
    "test_y = torch.from_numpy(test.is_iceberg.values.reshape(-1, 1)).float()"
   ]
  },
  {
   "cell_type": "code",
   "execution_count": null,
   "metadata": {},
   "outputs": [],
   "source": [
    "cuda = torch.cuda.is_available()\n",
    "num_epochs = 1\n",
    "batch_size = 25\n",
    "learning_rate = 0.00005\n",
    "cuda"
   ]
  },
  {
   "cell_type": "code",
   "execution_count": null,
   "metadata": {},
   "outputs": [],
   "source": [
    "train_loader = data_utils.DataLoader(data_utils.TensorDataset(train_x, train_y), batch_size=batch_size, shuffle=True)\n",
    "test_loader = data_utils.DataLoader(data_utils.TensorDataset(test_x, test_y), batch_size=batch_size, shuffle=True)"
   ]
  },
  {
   "cell_type": "code",
   "execution_count": null,
   "metadata": {},
   "outputs": [],
   "source": [
    "class Net(nn.Module):\n",
    "    def __init__(self):\n",
    "        super(Net, self).__init__()\n",
    "\n",
    "        self.layer1 = nn.Sequential(\n",
    "            nn.Conv2d(1, 16, kernel_size=5, stride=1, padding=2),\n",
    "            #nn.BatchNorm2d(16),\n",
    "            nn.ReLU(),\n",
    "            nn.MaxPool2d(2)\n",
    "        )\n",
    "        self.layer2 = nn.Sequential(\n",
    "            nn.Conv2d(16, 32, kernel_size=5, stride=1, padding=2),\n",
    "            #nn.BatchNorm2d(32),\n",
    "            nn.ReLU(),\n",
    "            nn.MaxPool2d(2)\n",
    "        )\n",
    "        self.fc = nn.Sequential(\n",
    "            nn.Linear(32 * 18 * 18, 100),\n",
    "            nn.Linear(100, 2),\n",
    "            nn.Softmax(),\n",
    "        )\n",
    "\n",
    "    def forward(self, x):\n",
    "        out = self.layer1(x)\n",
    "        out = self.layer2(out)\n",
    "        out = out.view(out.size(0), -1)\n",
    "        out = self.fc(out)\n",
    "        return out"
   ]
  },
  {
   "cell_type": "code",
   "execution_count": null,
   "metadata": {},
   "outputs": [],
   "source": [
    "net = Net()\n",
    "criterion = nn.CrossEntropyLoss()\n",
    "optimizer = torch.optim.Adam(net.parameters(), lr=learning_rate)\n",
    "writer = SummaryWriter()\n",
    "\n",
    "if cuda:\n",
    "    net.cuda()\n",
    "    criterion.cuda()\n",
    "    \n",
    "epoch_train_loss = []\n",
    "epoch_test_loss = []"
   ]
  },
  {
   "cell_type": "code",
   "execution_count": null,
   "metadata": {
    "scrolled": false
   },
   "outputs": [],
   "source": [
    "for e in range(20):\n",
    "\n",
    "    train_loss = 0\n",
    "    test_loss = 0\n",
    "\n",
    "    for batch_id, (x, y) in enumerate(tqdm(train_loader, desc='Training')):\n",
    "        x = Variable(x)\n",
    "        y = Variable(y).long().squeeze()\n",
    "        \n",
    "        if cuda:\n",
    "            x = x.cuda()\n",
    "            y = y.cuda()\n",
    "        \n",
    "        optimizer.zero_grad()\n",
    "        \n",
    "        outputs = net(x)\n",
    "        loss = criterion(outputs, y)\n",
    "        \n",
    "        train_loss += loss.data.cpu()[0]\n",
    "        \n",
    "        loss.backward()\n",
    "        optimizer.step()\n",
    "        \n",
    "    writer.add_scalar('data/scalar1', train_loss, e)\n",
    "      \n",
    "    for batch_id, (x, y) in enumerate(tqdm(test_loader, desc='Testing')):\n",
    "        x = Variable(x)\n",
    "        y = Variable(y).long().squeeze()\n",
    "        \n",
    "        if cuda:\n",
    "            x = x.cuda()\n",
    "            y = y.cuda()\n",
    "\n",
    "        outputs = net(x)\n",
    "        loss = criterion(outputs, y)\n",
    "\n",
    "        test_loss += loss.data.cpu()[0]\n",
    "     \n",
    "    train_loss /= train.shape[0]\n",
    "    test_loss /= test.shape[0]\n",
    "    \n",
    "    epoch_train_loss.append(train_loss)\n",
    "    epoch_test_loss.append(test_loss)\n",
    "    print('Training loss: {:.4f}'.format(train_loss))\n",
    "    print('Testing  loss: {:.4f}'.format(test_loss))\n",
    "    \n",
    "writer.add_graph(net, outputs)"
   ]
  },
  {
   "cell_type": "code",
   "execution_count": null,
   "metadata": {},
   "outputs": [],
   "source": [
    "plt.plot(epoch_train_loss, label='train')\n",
    "plt.plot(epoch_test_loss, label='test')\n",
    "plt.legend();"
   ]
  },
  {
   "cell_type": "code",
   "execution_count": null,
   "metadata": {},
   "outputs": [],
   "source": [
    "preds = []\n",
    "targets = []\n",
    "\n",
    "for batch_id, (x, y) in enumerate(tqdm(train_loader, desc='Training')):\n",
    "    x = Variable(x)\n",
    "    y = Variable(y).long().squeeze()\n",
    "\n",
    "    if cuda:\n",
    "        x = x.cuda()\n",
    "        y = y.cuda()\n",
    "    \n",
    "    outputs = net(x)\n",
    "    preds.extend(outputs.data.cpu().numpy().argmax(axis=1))\n",
    "    targets.extend(y.data.cpu().numpy())\n",
    "\n",
    "accuracy_score(targets, preds)"
   ]
  },
  {
   "cell_type": "code",
   "execution_count": null,
   "metadata": {},
   "outputs": [],
   "source": [
    "log_loss(targets, preds)"
   ]
  },
  {
   "cell_type": "code",
   "execution_count": null,
   "metadata": {},
   "outputs": [],
   "source": [
    "preds = []\n",
    "targets = []\n",
    "\n",
    "for batch_id, (x, y) in enumerate(tqdm(test_loader, desc='Testing')):\n",
    "    x = Variable(x)\n",
    "    y = Variable(y).long().squeeze()\n",
    "\n",
    "    if cuda:\n",
    "        x = x.cuda()\n",
    "        y = y.cuda()\n",
    "    \n",
    "    outputs = net(x)\n",
    "    preds.extend(outputs.data.cpu().numpy().argmax(axis=1))\n",
    "    targets.extend(y.data.cpu().numpy())\n",
    "\n",
    "accuracy_score(targets, preds)"
   ]
  },
  {
   "cell_type": "code",
   "execution_count": null,
   "metadata": {},
   "outputs": [],
   "source": [
    "log_loss(targets, preds)"
   ]
  },
  {
   "cell_type": "code",
   "execution_count": null,
   "metadata": {},
   "outputs": [],
   "source": []
  }
 ],
 "metadata": {
  "kernelspec": {
   "display_name": "Python 3",
   "language": "python",
   "name": "python3"
  },
  "language_info": {
   "codemirror_mode": {
    "name": "ipython",
    "version": 3
   },
   "file_extension": ".py",
   "mimetype": "text/x-python",
   "name": "python",
   "nbconvert_exporter": "python",
   "pygments_lexer": "ipython3",
   "version": "3.5.2"
  }
 },
 "nbformat": 4,
 "nbformat_minor": 2
}
