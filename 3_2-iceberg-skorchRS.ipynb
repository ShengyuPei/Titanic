{
 "cells": [
  {
   "cell_type": "code",
   "execution_count": 1,
   "metadata": {},
   "outputs": [],
   "source": [
    "% run 1-datasource.ipynb"
   ]
  },
  {
   "cell_type": "code",
   "execution_count": 2,
   "metadata": {},
   "outputs": [],
   "source": [
    "import torch\n",
    "from torch import nn\n",
    "from sklearn.model_selection import train_test_split\n",
    "from sklearn.datasets import make_classification\n",
    "import scipy.stats as sc\n",
    "import torch.nn.functional as F\n",
    "from skorch.net import NeuralNet,train_loss_score,valid_loss_score\n",
    "from skorch.callbacks import EpochTimer,EpochScoring,PrintLog\n",
    "from sklearn.preprocessing import StandardScaler"
   ]
  },
  {
   "cell_type": "code",
   "execution_count": 3,
   "metadata": {},
   "outputs": [],
   "source": [
    "scaler_1 = StandardScaler()\n",
    "scaler_2 = StandardScaler()"
   ]
  },
  {
   "cell_type": "code",
   "execution_count": 4,
   "metadata": {},
   "outputs": [],
   "source": [
    "for _, i in icebergs.iterrows():\n",
    "    scaler_1.partial_fit(i.band_1.reshape(1, -1))\n",
    "    scaler_2.partial_fit(i.band_2.reshape(1, -1))"
   ]
  },
  {
   "cell_type": "code",
   "execution_count": 5,
   "metadata": {
    "scrolled": false
   },
   "outputs": [],
   "source": [
    "y = icebergs.is_iceberg.values.astype(np.float32)\n",
    "x = (\n",
    "    np.stack(\n",
    "        [\n",
    "            scaler_1.transform(np.stack(icebergs.band_1)),\n",
    "            scaler_2.transform(np.stack(icebergs.band_2)),\n",
    "        ],\n",
    "        axis=1\n",
    "    ).reshape(-1, 2, 75, 75)\n",
    ").astype(np.float32)"
   ]
  },
  {
   "cell_type": "code",
   "execution_count": 6,
   "metadata": {
    "scrolled": false
   },
   "outputs": [
    {
     "data": {
      "text/plain": [
       "(dtype('float32'), dtype('float32'))"
      ]
     },
     "execution_count": 6,
     "metadata": {},
     "output_type": "execute_result"
    }
   ],
   "source": [
    "x.dtype, y.dtype"
   ]
  },
  {
   "cell_type": "code",
   "execution_count": 7,
   "metadata": {
    "scrolled": true
   },
   "outputs": [
    {
     "data": {
      "text/plain": [
       "(numpy.ndarray, numpy.ndarray)"
      ]
     },
     "execution_count": 7,
     "metadata": {},
     "output_type": "execute_result"
    }
   ],
   "source": [
    "type(x), type(y)"
   ]
  },
  {
   "cell_type": "code",
   "execution_count": 8,
   "metadata": {},
   "outputs": [
    {
     "data": {
      "text/plain": [
       "((1604,), (1604, 2, 75, 75))"
      ]
     },
     "execution_count": 8,
     "metadata": {},
     "output_type": "execute_result"
    }
   ],
   "source": [
    "y.shape, x.shape"
   ]
  },
  {
   "cell_type": "code",
   "execution_count": 32,
   "metadata": {},
   "outputs": [],
   "source": [
    "insize1 = 2 \n",
    "#outsize1 = 32 \n",
    "#outsize2 = 32\n",
    "\n",
    "class Net(nn.Module):\n",
    "    def __init__(self,outsize1=16,outsize2=32):\n",
    "        super().__init__()\n",
    "        \n",
    "        #self.padding = padding\n",
    "        #self.kernel1 = kernel1\n",
    "        #self.kernel2 = kernel2 \n",
    "        self.outsize1= outsize1\n",
    "        self.outsize2 = outsize2\n",
    "        #self.stride = stride\n",
    "        #self.group? \n",
    "        #insize outsize ?\n",
    "        \n",
    "        self.layer1 = nn.Sequential(\n",
    "            nn.Conv2d(insize1, outsize1, kernel_size=7, stride=1, padding=2, groups=2),\n",
    "            nn.BatchNorm2d(outsize1),\n",
    "            nn.ReLU(),\n",
    "            nn.MaxPool2d(4)\n",
    "        )\n",
    "        self.layer2 = nn.Sequential(\n",
    "            nn.Conv2d(outsize1, outsize2, kernel_size=5, stride=1, padding=2),\n",
    "            nn.BatchNorm2d(outsize2),\n",
    "            nn.ReLU(),\n",
    "            nn.MaxPool2d(2)\n",
    "        )\n",
    "        self.fc = nn.Sequential(\n",
    "            nn.Linear(outsize2*81, 1024),\n",
    "            nn.ReLU(),\n",
    "            nn.Linear(1024, 512),\n",
    "            nn.ReLU(),\n",
    "            nn.Linear(512, 1),\n",
    "        )\n",
    "\n",
    "    def forward(self, x):\n",
    "        out = self.layer1(x)\n",
    "        out = self.layer2(out)\n",
    "        out = out.view(out.size(0), -1)\n",
    "        out = self.fc(out)\n",
    "        return out"
   ]
  },
  {
   "cell_type": "code",
   "execution_count": 33,
   "metadata": {},
   "outputs": [],
   "source": [
    "net = NeuralNet(\n",
    "    Net,\n",
    "    optimizer=torch.optim.Adam,\n",
    "    criterion=nn.BCEWithLogitsLoss, #regularization\n",
    "    max_epochs=150,\n",
    "    batch_size=25,\n",
    "    lr=0.000001,\n",
    "    callbacks= [  \n",
    "            ('valid_log_loss', EpochScoring(\n",
    "                'neg_log_loss',\n",
    "                name='valid_log_loss',\n",
    "                lower_is_better=False,\n",
    "            ))\n",
    "            ],\n",
    "    use_cuda = True\n",
    ")"
   ]
  },
  {
   "cell_type": "code",
   "execution_count": 34,
   "metadata": {},
   "outputs": [],
   "source": [
    "import scipy.stats as sc\n",
    "param_dis = {\n",
    "    'batch_size': [32,64],\n",
    "    'module__outsize1':[16,32,64],\n",
    "    'module__outsize2':[16,32,64],\n",
    "}"
   ]
  },
  {
   "cell_type": "code",
   "execution_count": 35,
   "metadata": {},
   "outputs": [],
   "source": [
    "from sklearn.model_selection import RandomizedSearchCV\n",
    "gsR = RandomizedSearchCV(net, param_dis, refit=False,scoring='f1',n_jobs=1,n_iter=5)"
   ]
  },
  {
   "cell_type": "code",
   "execution_count": null,
   "metadata": {},
   "outputs": [
    {
     "name": "stdout",
     "output_type": "stream",
     "text": [
      "  epoch    train_loss    valid_log_loss    valid_loss     dur\n",
      "-------  ------------  ----------------  ------------  ------\n",
      "      1        \u001b[36m0.6866\u001b[0m           \u001b[32m-9.6534\u001b[0m        \u001b[35m0.6876\u001b[0m  1.7003\n",
      "      2        \u001b[36m0.6811\u001b[0m          -16.4624        \u001b[35m0.6809\u001b[0m  1.3273\n",
      "      3        \u001b[36m0.6772\u001b[0m          -16.4624        \u001b[35m0.6780\u001b[0m  1.3111\n",
      "      4        \u001b[36m0.6741\u001b[0m          -16.4624        \u001b[35m0.6757\u001b[0m  1.3312\n",
      "      5        \u001b[36m0.6715\u001b[0m          -16.4624        \u001b[35m0.6737\u001b[0m  1.3133\n",
      "      6        \u001b[36m0.6692\u001b[0m          -16.4624        \u001b[35m0.6717\u001b[0m  1.3061\n",
      "      7        \u001b[36m0.6671\u001b[0m          -16.4624        \u001b[35m0.6698\u001b[0m  1.3050\n",
      "      8        \u001b[36m0.6652\u001b[0m          -16.4624        \u001b[35m0.6679\u001b[0m  1.3086\n",
      "      9        \u001b[36m0.6634\u001b[0m          -16.4624        \u001b[35m0.6659\u001b[0m  1.3065\n",
      "     10        \u001b[36m0.6616\u001b[0m          -16.4624        \u001b[35m0.6640\u001b[0m  1.3016\n",
      "     11        \u001b[36m0.6600\u001b[0m          -16.4624        \u001b[35m0.6621\u001b[0m  1.3062\n",
      "     12        \u001b[36m0.6584\u001b[0m          -16.4624        \u001b[35m0.6602\u001b[0m  1.3250\n",
      "     13        \u001b[36m0.6568\u001b[0m          -16.4624        \u001b[35m0.6583\u001b[0m  1.3066\n",
      "     14        \u001b[36m0.6553\u001b[0m          -16.4624        \u001b[35m0.6565\u001b[0m  1.3057\n",
      "     15        \u001b[36m0.6538\u001b[0m          -16.3258        \u001b[35m0.6546\u001b[0m  1.3029\n",
      "     16        \u001b[36m0.6523\u001b[0m          -16.1830        \u001b[35m0.6528\u001b[0m  1.2995\n"
     ]
    }
   ],
   "source": [
    "gsR.fit(x,y)"
   ]
  },
  {
   "cell_type": "code",
   "execution_count": 14,
   "metadata": {},
   "outputs": [
    {
     "data": {
      "text/plain": [
       "({'batch_size': 32, 'module__outsize1': 16, 'module__outsize2': 16}, 0.0)"
      ]
     },
     "execution_count": 14,
     "metadata": {},
     "output_type": "execute_result"
    }
   ],
   "source": [
    "gsR.best_params_,gsR.best_score_"
   ]
  },
  {
   "cell_type": "code",
   "execution_count": null,
   "metadata": {},
   "outputs": [],
   "source": []
  },
  {
   "cell_type": "code",
   "execution_count": null,
   "metadata": {},
   "outputs": [],
   "source": []
  }
 ],
 "metadata": {
  "kernelspec": {
   "display_name": "Python 3",
   "language": "python",
   "name": "python3"
  },
  "language_info": {
   "codemirror_mode": {
    "name": "ipython",
    "version": 3
   },
   "file_extension": ".py",
   "mimetype": "text/x-python",
   "name": "python",
   "nbconvert_exporter": "python",
   "pygments_lexer": "ipython3",
   "version": "3.5.2"
  }
 },
 "nbformat": 4,
 "nbformat_minor": 2
}
