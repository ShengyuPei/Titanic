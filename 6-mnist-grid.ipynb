{
 "cells": [
  {
   "cell_type": "code",
   "execution_count": null,
   "metadata": {},
   "outputs": [],
   "source": [
    "% run 1-datasource.ipynb"
   ]
  },
  {
   "cell_type": "code",
   "execution_count": null,
   "metadata": {},
   "outputs": [],
   "source": [
    "% run 4-graph-utils.ipynb"
   ]
  },
  {
   "cell_type": "code",
   "execution_count": null,
   "metadata": {},
   "outputs": [],
   "source": [
    "import os\n",
    "os.environ['CUDA_VISIBLE_DEVICES'] = '1'"
   ]
  },
  {
   "cell_type": "code",
   "execution_count": null,
   "metadata": {},
   "outputs": [],
   "source": [
    "import torch.utils.data as data_utils\n",
    "import torchvision.datasets as dset\n",
    "from sklearn.model_selection import train_test_split\n",
    "from sklearn.metrics import accuracy_score, log_loss\n",
    "from sklearn.preprocessing import StandardScaler\n",
    "from tensorboardX import SummaryWriter\n",
    "import networkx as nx\n",
    "from scipy import spatial\n",
    "import scipy.sparse.csgraph"
   ]
  },
  {
   "cell_type": "code",
   "execution_count": null,
   "metadata": {},
   "outputs": [],
   "source": [
    "gr_size = 28\n",
    "gr = grid(gr_size)\n",
    "gr.shape"
   ]
  },
  {
   "cell_type": "code",
   "execution_count": null,
   "metadata": {},
   "outputs": [],
   "source": [
    "mask = distance(gr, k=8, metric='euclidean') > 0\n",
    "plt.spy(mask[:40, :40]);"
   ]
  },
  {
   "cell_type": "code",
   "execution_count": null,
   "metadata": {},
   "outputs": [],
   "source": [
    "graphs, perm = coarsen(sp.sparse.csr.csr_matrix(mask), levels=3, self_connections=False)"
   ]
  },
  {
   "cell_type": "code",
   "execution_count": null,
   "metadata": {},
   "outputs": [],
   "source": [
    "len(perm)"
   ]
  },
  {
   "cell_type": "code",
   "execution_count": null,
   "metadata": {},
   "outputs": [],
   "source": [
    "laps = [sp.sparse.csgraph.laplacian(g, normed=True) for g in graphs[:-1]]"
   ]
  },
  {
   "cell_type": "code",
   "execution_count": null,
   "metadata": {},
   "outputs": [],
   "source": [
    "n = laps[0].shape[0]\n",
    "n"
   ]
  },
  {
   "cell_type": "code",
   "execution_count": null,
   "metadata": {},
   "outputs": [],
   "source": [
    "def fourier(laplacian):\n",
    "    eigenvalues, eigenvectors = sp.linalg.eigh(laplacian)\n",
    "    return eigenvectors"
   ]
  },
  {
   "cell_type": "code",
   "execution_count": null,
   "metadata": {},
   "outputs": [],
   "source": [
    "f0 = torch.from_numpy(fourier(laps[0].todense())).float()\n",
    "f0.size()"
   ]
  },
  {
   "cell_type": "code",
   "execution_count": null,
   "metadata": {},
   "outputs": [],
   "source": [
    "f1 = torch.from_numpy(fourier(laps[1].todense())).float()\n",
    "f1.size()"
   ]
  },
  {
   "cell_type": "code",
   "execution_count": null,
   "metadata": {},
   "outputs": [],
   "source": [
    "f2 = torch.from_numpy(fourier(laps[2].todense())).float()\n",
    "f2.size()"
   ]
  },
  {
   "cell_type": "code",
   "execution_count": null,
   "metadata": {},
   "outputs": [],
   "source": [
    "data_folder = './data'\n",
    "train = dset.MNIST(data_folder, train=True, download=True)\n",
    "test = dset.MNIST(data_folder, train=False)"
   ]
  },
  {
   "cell_type": "code",
   "execution_count": null,
   "metadata": {},
   "outputs": [],
   "source": [
    "train_x, train_y = zip(*train)\n",
    "test_x, test_y = zip(*test)\n",
    "\n",
    "train_x = np.stack([np.r_[np.reshape(i, -1), np.zeros(n - gr_size * gr_size)] for i in train_x])\n",
    "test_x = np.stack([np.r_[np.reshape(i, -1), np.zeros(n - gr_size * gr_size)] for i in test_x])\n",
    "\n",
    "train_x = torch.from_numpy(train_x).float()\n",
    "test_x = torch.from_numpy(test_x).float()\n",
    "train_y = torch.from_numpy(np.array(train_y)).long()\n",
    "test_y = torch.from_numpy(np.array(test_y)).long()\n",
    "\n",
    "train_x.shape, train_y.shape"
   ]
  },
  {
   "cell_type": "code",
   "execution_count": null,
   "metadata": {},
   "outputs": [],
   "source": [
    "test_x.shape, test_y.shape"
   ]
  },
  {
   "cell_type": "code",
   "execution_count": null,
   "metadata": {},
   "outputs": [],
   "source": [
    "class GraphConv(nn.Module):\n",
    "    def __init__(self, fourier, n_filter):\n",
    "        super(GraphConv, self).__init__()\n",
    "        \n",
    "        self.n = len(fourier)\n",
    "        self.u = Variable(fourier, requires_grad=False)\n",
    "        self.n_filter = n_filter\n",
    "        \n",
    "        self.weight = nn.Parameter(torch.Tensor(self.n, self.n_filter))\n",
    "        self.bias = nn.Parameter(torch.Tensor(self.n))\n",
    "        \n",
    "        stdv = 1. / np.sqrt(self.weight.size(1))\n",
    "        self.weight.data.uniform_(-stdv, stdv)\n",
    "        self.bias.data.uniform_(-stdv, stdv)\n",
    "\n",
    "    def forward(self, x): # samples x n\n",
    "        # fourier\n",
    "        out = x @ self.u # samples x n\n",
    "        \n",
    "        # filter\n",
    "        w = self.weight.unsqueeze(2) # n x f x 1\n",
    "        out = out.t().unsqueeze(1) # n x 1 x samples\n",
    "        out = w @ out # n x f x samples\n",
    "        \n",
    "        # un-fourier\n",
    "        out = out.permute(2, 1, 0).contiguous() # samples x f x n\n",
    "        out = out.view(-1, self.n) # (samples * f) x n\n",
    "        out = out @ self.u.t() # (samples * f) x n\n",
    "        out = out.view(-1, self.n_filter, self.n) # samples x f x n\n",
    "        \n",
    "        # bias?\n",
    "        out = out + self.bias # samples x f x n\n",
    "        return out"
   ]
  },
  {
   "cell_type": "code",
   "execution_count": null,
   "metadata": {},
   "outputs": [],
   "source": [
    "class Flatten(nn.Module):\n",
    "    def forward(self, x):\n",
    "        return x.view(x.size(0), -1)        "
   ]
  },
  {
   "cell_type": "code",
   "execution_count": null,
   "metadata": {},
   "outputs": [],
   "source": [
    "class GraphFourierConv(nn.Module):\n",
    "    def __init__(self, fourier_basis, in_channels, out_channels, bias=True):\n",
    "        super().__init__()\n",
    " \n",
    "        self.n = fourier_basis.size(0)\n",
    "        self.in_channels = in_channels\n",
    "        self.out_channels = out_channels\n",
    "        \n",
    "        assert fourier_basis.size(1) == self.n\n",
    "        self.u = Variable(fourier_basis, requires_grad=False) # n x n\n",
    "        self.ut = self.u.t()\n",
    "\n",
    "        self.weight = nn.Parameter(torch.Tensor(self.n, self.out_channels, 1)) # n x out x 1\n",
    "        \n",
    "        if bias:\n",
    "            self.bias = nn.Parameter(torch.Tensor(self.out_channels, 1))\n",
    "        else:\n",
    "            self.register_parameter('bias', None)\n",
    "            \n",
    "        self.reset_parameters()\n",
    "        \n",
    "    def reset_parameters(self):\n",
    "        stdv = 1. / np.sqrt(self.weight.size(1))\n",
    "        self.weight.data.uniform_(-stdv, stdv)\n",
    "        \n",
    "        if self.bias is not None:\n",
    "            self.bias.data.uniform_(-stdv, stdv)\n",
    "\n",
    "    def forward(self, x):\n",
    "        # batch x in x n\n",
    "\n",
    "        # fourier\n",
    "        out = x.view(-1, self.n) # (batch * in) x n\n",
    "        out = out @ self.u # (batch * in) x n\n",
    "        \n",
    "        # filter\n",
    "        out = out.t().unsqueeze(1) # n x 1 x (batch * in)\n",
    "        out = self.weight @ out # n x out x (batch * in)\n",
    "\n",
    "        # un-fourier\n",
    "        out = out.transpose(0, 2).contiguous() # (batch * in) x out x n\n",
    "        out = out.view(-1, self.n) # (batch * in * out) x n\n",
    "        out = out @ self.ut # (batch * in * out) x n\n",
    "        out = out.view(-1, self.in_channels, self.out_channels, self.n) # batch x in x out x n\n",
    "        \n",
    "        # sum in dim + bias\n",
    "        out = out.sum(1) # batch x out x n\n",
    "        if self.bias is not None:\n",
    "            out = out + self.bias # batch x out x n\n",
    "        \n",
    "        return out\n",
    "    \n",
    "    def __repr__(self):\n",
    "        return '{}(fourier_basis, {}, {}, bias={})'.format(__class__.__name__, self.in_channels, self.out_channels, self.bias)"
   ]
  },
  {
   "cell_type": "code",
   "execution_count": null,
   "metadata": {},
   "outputs": [],
   "source": [
    "cuda = torch.cuda.is_available()\n",
    "batch_size = 100\n",
    "learning_rate = 0.0005\n",
    "cuda"
   ]
  },
  {
   "cell_type": "code",
   "execution_count": null,
   "metadata": {},
   "outputs": [],
   "source": [
    "train_loader = data_utils.DataLoader(data_utils.TensorDataset(train_x, train_y), batch_size=batch_size, shuffle=True)\n",
    "test_loader = data_utils.DataLoader(data_utils.TensorDataset(test_x, test_y), batch_size=batch_size, shuffle=True)"
   ]
  },
  {
   "cell_type": "code",
   "execution_count": null,
   "metadata": {},
   "outputs": [],
   "source": [
    "conv1_dim = 20\n",
    "conv2_dim = 40\n",
    "\n",
    "net = nn.Sequential(\n",
    "    #GraphConv(f.cuda() if cuda else f, conv1_dim),\n",
    "    GraphFourierConv(f0.cuda() if cuda else f0, 1, conv1_dim, bias=False),\n",
    "#    nn.BatchNorm2d(conv1_dim),\n",
    "    nn.MaxPool1d(4),\n",
    "    nn.ReLU(),\n",
    "    \n",
    "    GraphFourierConv(f2.cuda() if cuda else f2, conv1_dim, conv2_dim, bias=False),\n",
    "#    nn.BatchNorm2d(conv2_dim),\n",
    "    nn.MaxPool1d(4),\n",
    "    nn.ReLU(),\n",
    "    \n",
    "    Flatten(),\n",
    "    nn.Dropout(0.5),\n",
    "    nn.Linear(len(f2) // 4 * conv2_dim, 500),\n",
    "    nn.Linear(500, 10),\n",
    "    nn.Softmax(1)\n",
    ")\n",
    "criterion = nn.CrossEntropyLoss()\n",
    "optimizer = torch.optim.Adam(net.parameters(), lr=learning_rate, weight_decay=5e-4)\n",
    "writer = SummaryWriter()\n",
    "\n",
    "if cuda:\n",
    "    net.cuda()\n",
    "    criterion.cuda()\n",
    "\n",
    "writer.add_graph(net, net(Variable(train_x[0]).cuda()))\n",
    "    \n",
    "epoch_train_loss = []\n",
    "epoch_test_loss = []"
   ]
  },
  {
   "cell_type": "code",
   "execution_count": null,
   "metadata": {},
   "outputs": [],
   "source": [
    "def loop(loader, training=False):\n",
    "    \n",
    "    running_loss = 0\n",
    "    targets = []\n",
    "    predictions = []\n",
    "    \n",
    "    for batch_id, (x, y) in enumerate(loader):\n",
    "        x = Variable(x)\n",
    "        y = Variable(y)\n",
    "        \n",
    "        if cuda:\n",
    "            x = x.cuda()\n",
    "            y = y.cuda()\n",
    "        \n",
    "        optimizer.zero_grad()\n",
    "        \n",
    "        outputs = net(x)\n",
    "        loss = criterion(outputs, y)\n",
    "\n",
    "        if training:\n",
    "            loss.backward()\n",
    "            optimizer.step()\n",
    "\n",
    "        running_loss += loss.data.cpu()[0]\n",
    "        targets.extend(y.data.cpu().numpy())\n",
    "        predictions.extend(outputs.data.cpu().numpy())\n",
    "        \n",
    "        if (batch_id + 1) % 10 == 0 and training:\n",
    "            print(running_loss / (batch_id * batch_size), end='\\r')\n",
    "        \n",
    "    return np.array(targets), np.array(predictions), running_loss"
   ]
  },
  {
   "cell_type": "code",
   "execution_count": null,
   "metadata": {},
   "outputs": [],
   "source": [
    "for e in range(5):\n",
    "\n",
    "    train_targets, train_preds, train_loss = loop(train_loader, training=True)\n",
    "    writer.add_scalar('data/train_loss', train_loss, e)\n",
    "    train_acc = accuracy_score(train_targets, train_preds.argmax(axis=1))\n",
    "    writer.add_scalar('data/train_accuracy', train_acc, e)\n",
    "      \n",
    "    test_targets, test_preds, test_loss = loop(test_loader, training=False)\n",
    "    writer.add_scalar('data/test_loss', test_loss, e)\n",
    "    test_acc = accuracy_score(test_targets, test_preds.argmax(axis=1))\n",
    "    writer.add_scalar('data/test_accuracy', test_acc, e)\n",
    "\n",
    "    train_loss /= len(train)\n",
    "    test_loss /= len(test)\n",
    "    \n",
    "    epoch_train_loss.append(train_loss)\n",
    "    epoch_test_loss.append(test_loss)\n",
    "    \n",
    "    print('Training {:.4f} {:.2f}% Testing {:.4f} {:.2f}%'.format(train_loss, train_acc * 100, test_loss, test_acc * 100))"
   ]
  },
  {
   "cell_type": "code",
   "execution_count": null,
   "metadata": {},
   "outputs": [],
   "source": [
    "plt.plot(epoch_train_loss, label='train')\n",
    "plt.plot(epoch_test_loss, label='test')\n",
    "plt.legend();"
   ]
  },
  {
   "cell_type": "code",
   "execution_count": null,
   "metadata": {},
   "outputs": [],
   "source": [
    "train_preds.argmax(axis=1)"
   ]
  },
  {
   "cell_type": "code",
   "execution_count": null,
   "metadata": {},
   "outputs": [],
   "source": [
    "train_targets, train_preds, train_loss = loop(train_loader)\n",
    "accuracy_score(train_targets, train_preds.argmax(axis=1))"
   ]
  },
  {
   "cell_type": "code",
   "execution_count": null,
   "metadata": {},
   "outputs": [],
   "source": [
    "test_targets, test_preds, test_loss = loop(test_loader)\n",
    "accuracy_score(test_targets, test_preds.argmax(axis=1))"
   ]
  },
  {
   "cell_type": "code",
   "execution_count": null,
   "metadata": {},
   "outputs": [],
   "source": []
  }
 ],
 "metadata": {
  "kernelspec": {
   "display_name": "Python 3",
   "language": "python",
   "name": "python3"
  },
  "language_info": {
   "codemirror_mode": {
    "name": "ipython",
    "version": 3
   },
   "file_extension": ".py",
   "mimetype": "text/x-python",
   "name": "python",
   "nbconvert_exporter": "python",
   "pygments_lexer": "ipython3",
   "version": "3.5.2"
  }
 },
 "nbformat": 4,
 "nbformat_minor": 2
}
